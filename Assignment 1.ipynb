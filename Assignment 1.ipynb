{
 "cells": [
  {
   "cell_type": "markdown",
   "id": "8d7cba33",
   "metadata": {},
   "source": [
    "# Assignment 1"
   ]
  },
  {
   "cell_type": "markdown",
   "id": "73c0a95b",
   "metadata": {},
   "source": [
    "#### [문제 1] \n",
    "a=\"Hello Python\" 문자열을 Slicing과 연결 연산자 (+)를 사용하여 \"Python Hello\"로 변경하시오.\n",
    "- [주의] a 변수 자체에 \"Python Hello\" 문자열이 저장되어야 함"
   ]
  },
  {
   "cell_type": "code",
   "execution_count": 1,
   "id": "e8c02424",
   "metadata": {},
   "outputs": [
    {
     "name": "stdout",
     "output_type": "stream",
     "text": [
      "Python Hello \n"
     ]
    }
   ],
   "source": [
    "a = \"Hello Python \"\n",
    "a = a[6:] + a[0:6]\n",
    "print(a) # Python Hello"
   ]
  },
  {
   "cell_type": "markdown",
   "id": "e48082e3",
   "metadata": {},
   "source": [
    "#### [문제 2]\n",
    "b=\"Hello Python World\" 문자열을 Slicing과 연결 연산자 (+)를 사용하여 \"World Python Hello\"로 변경하시오.\n",
    "- [주의] b 변수 자체에 \"World Python Hello\" 문자열이 저장되어야 함"
   ]
  },
  {
   "cell_type": "code",
   "execution_count": 2,
   "id": "0ca34d55",
   "metadata": {},
   "outputs": [
    {
     "name": "stdout",
     "output_type": "stream",
     "text": [
      "World Python Hello\n"
     ]
    }
   ],
   "source": [
    "b = \"Hello Python World\"\n",
    "b = b[13:] + ' ' + b[6:13] +  b[0:5]\n",
    "print(b) # World Python Hello"
   ]
  },
  {
   "cell_type": "markdown",
   "id": "886b2b28",
   "metadata": {},
   "source": [
    "#### [문제 3]\n",
    "c=\"Hello\"를 \"olleH\"로 변경하시오\n",
    "- [주의] c 변수 자체에 \"olleH\" 문자열이 저장되어야 함"
   ]
  },
  {
   "cell_type": "code",
   "execution_count": 3,
   "id": "87f1ab3b",
   "metadata": {},
   "outputs": [
    {
     "name": "stdout",
     "output_type": "stream",
     "text": [
      "olleH\n"
     ]
    }
   ],
   "source": [
    "c = \"Hello\"\n",
    "c = c[::-1]\n",
    "print(c) # olleH"
   ]
  },
  {
   "cell_type": "markdown",
   "id": "c07292a7",
   "metadata": {},
   "source": [
    "#### [문제 4]\n",
    "s=\"python\"에 대해 다음 문제를 풀어보시오."
   ]
  },
  {
   "cell_type": "code",
   "execution_count": 4,
   "id": "5a00ca1a",
   "metadata": {},
   "outputs": [
    {
     "name": "stdout",
     "output_type": "stream",
     "text": [
      "p p p\n"
     ]
    }
   ],
   "source": [
    "# A : s[0], s[0][0], s[0][0][0]은 각각 어떤 값이 나오는지 확인하고 그 이유를 나름대로 설명해 보시오.\n",
    "s = \"python\"\n",
    "print (s[0], s[0][0], s[0][0][0])"
   ]
  },
  {
   "cell_type": "markdown",
   "id": "5798830f",
   "metadata": {},
   "source": [
    "- 배열의 1차, 2차, 3차와 같기 때문에 p라는 같은 값이 나온다."
   ]
  },
  {
   "cell_type": "code",
   "execution_count": 5,
   "id": "40900d03",
   "metadata": {},
   "outputs": [
    {
     "ename": "IndexError",
     "evalue": "string index out of range",
     "output_type": "error",
     "traceback": [
      "\u001b[0;31m---------------------------------------------------------------------------\u001b[0m",
      "\u001b[0;31mIndexError\u001b[0m                                Traceback (most recent call last)",
      "\u001b[0;32m<ipython-input-5-0daab0b87f34>\u001b[0m in \u001b[0;36m<module>\u001b[0;34m\u001b[0m\n\u001b[1;32m      1\u001b[0m \u001b[0;31m# B : s[-100], s[100]은 값이 나오는지 에러가 나오는지 확인하고 그 결과에 대한 이유를 나름대로 설명해 보시오.\u001b[0m\u001b[0;34m\u001b[0m\u001b[0;34m\u001b[0m\u001b[0;34m\u001b[0m\u001b[0m\n\u001b[0;32m----> 2\u001b[0;31m \u001b[0mprint\u001b[0m \u001b[0;34m(\u001b[0m\u001b[0ms\u001b[0m\u001b[0;34m[\u001b[0m\u001b[0;34m-\u001b[0m\u001b[0;36m100\u001b[0m\u001b[0;34m]\u001b[0m\u001b[0;34m,\u001b[0m \u001b[0ms\u001b[0m\u001b[0;34m[\u001b[0m\u001b[0;36m100\u001b[0m\u001b[0;34m]\u001b[0m\u001b[0;34m)\u001b[0m\u001b[0;34m\u001b[0m\u001b[0;34m\u001b[0m\u001b[0m\n\u001b[0m",
      "\u001b[0;31mIndexError\u001b[0m: string index out of range"
     ]
    }
   ],
   "source": [
    "# B : s[-100], s[100]은 값이 나오는지 에러가 나오는지 확인하고 그 결과에 대한 이유를 나름대로 설명해 보시오.\n",
    "print (s[-100], s[100])"
   ]
  },
  {
   "cell_type": "markdown",
   "id": "79bf0814",
   "metadata": {},
   "source": [
    "- index에 최대는 6이기 때문에 인덱싱을 초과한 것으로 오류가 발생한다."
   ]
  },
  {
   "cell_type": "code",
   "execution_count": 6,
   "id": "ad829310",
   "metadata": {},
   "outputs": [
    {
     "ename": "TypeError",
     "evalue": "string indices must be integers",
     "output_type": "error",
     "traceback": [
      "\u001b[0;31m---------------------------------------------------------------------------\u001b[0m",
      "\u001b[0;31mTypeError\u001b[0m                                 Traceback (most recent call last)",
      "\u001b[0;32m<ipython-input-6-1e8d4c68de64>\u001b[0m in \u001b[0;36m<module>\u001b[0;34m\u001b[0m\n\u001b[1;32m      1\u001b[0m \u001b[0;31m# C : s[-100, 100]은 값이 나오는지 에러가 나오는지 확인하고 그 결과에 대한 이유를 나름대로 설명해 보시오.\u001b[0m\u001b[0;34m\u001b[0m\u001b[0;34m\u001b[0m\u001b[0;34m\u001b[0m\u001b[0m\n\u001b[0;32m----> 2\u001b[0;31m \u001b[0mprint\u001b[0m\u001b[0;34m(\u001b[0m\u001b[0ms\u001b[0m\u001b[0;34m[\u001b[0m\u001b[0;34m-\u001b[0m\u001b[0;36m100\u001b[0m\u001b[0;34m,\u001b[0m\u001b[0;36m100\u001b[0m\u001b[0;34m]\u001b[0m\u001b[0;34m)\u001b[0m\u001b[0;34m\u001b[0m\u001b[0;34m\u001b[0m\u001b[0m\n\u001b[0m",
      "\u001b[0;31mTypeError\u001b[0m: string indices must be integers"
     ]
    }
   ],
   "source": [
    "# C : s[-100, 100]은 값이 나오는지 에러가 나오는지 확인하고 그 결과에 대한 이유를 나름대로 설명해 보시오.\n",
    "print(s[-100,100])"
   ]
  },
  {
   "cell_type": "markdown",
   "id": "02b889bc",
   "metadata": {},
   "source": [
    "- index 값이 정수가 아닌 문자열이기 때문에 오류가 발생한다."
   ]
  },
  {
   "cell_type": "code",
   "execution_count": 7,
   "id": "672dda59",
   "metadata": {},
   "outputs": [
    {
     "name": "stdout",
     "output_type": "stream",
     "text": [
      "ytho\n"
     ]
    }
   ],
   "source": [
    "# D : s[1:-1]의 결과를 확인하고 그 결과에 대한 이유를 정확하게 설명하시오.\n",
    "print(s[1:-1])"
   ]
  },
  {
   "cell_type": "markdown",
   "id": "a57db95f",
   "metadata": {},
   "source": [
    "- python에서 [1]에 해당하는 y부터 뒤에서 첫번째인 n전까지 출력하기 때문에 위와 같은 결과가 나온다."
   ]
  },
  {
   "cell_type": "code",
   "execution_count": 8,
   "id": "3bc1fa31",
   "metadata": {},
   "outputs": [
    {
     "name": "stdout",
     "output_type": "stream",
     "text": [
      "\n"
     ]
    }
   ],
   "source": [
    "# E : [3:-3]의 결과를 확인하고 그 결과에 대한 이유를 정확하게 설명하시오.\n",
    "print(s[3:-3])"
   ]
  },
  {
   "cell_type": "markdown",
   "id": "63f998a4",
   "metadata": {},
   "source": [
    "- [3]과 [-3]이 동일한 위치이므로 아무것도 출력되지 않는다."
   ]
  },
  {
   "cell_type": "markdown",
   "id": "2bda7326",
   "metadata": {},
   "source": [
    "#### [문제 5]\n",
    "for문을 활용하여 1부터 100사이의 홀수를 출력하시오."
   ]
  },
  {
   "cell_type": "code",
   "execution_count": 9,
   "id": "2bf73ac6",
   "metadata": {},
   "outputs": [
    {
     "name": "stdout",
     "output_type": "stream",
     "text": [
      "1\n",
      "3\n",
      "5\n",
      "7\n",
      "9\n",
      "11\n",
      "13\n",
      "15\n",
      "17\n",
      "19\n",
      "21\n",
      "23\n",
      "25\n",
      "27\n",
      "29\n",
      "31\n",
      "33\n",
      "35\n",
      "37\n",
      "39\n",
      "41\n",
      "43\n",
      "45\n",
      "47\n",
      "49\n",
      "51\n",
      "53\n",
      "55\n",
      "57\n",
      "59\n",
      "61\n",
      "63\n",
      "65\n",
      "67\n",
      "69\n",
      "71\n",
      "73\n",
      "75\n",
      "77\n",
      "79\n",
      "81\n",
      "83\n",
      "85\n",
      "87\n",
      "89\n",
      "91\n",
      "93\n",
      "95\n",
      "97\n",
      "99\n"
     ]
    }
   ],
   "source": [
    "for i in range(1,101,2):\n",
    "    print(i)"
   ]
  },
  {
   "cell_type": "markdown",
   "id": "413ff6cd",
   "metadata": {},
   "source": [
    "#### [문제 6]\n",
    "while문을 활용하여 1부터 100사이의 짝수의 합을 계산하여 출력하시오."
   ]
  },
  {
   "cell_type": "code",
   "execution_count": 10,
   "id": "28c0c707",
   "metadata": {},
   "outputs": [
    {
     "name": "stdout",
     "output_type": "stream",
     "text": [
      "2550\n"
     ]
    }
   ],
   "source": [
    "i = 0\n",
    "sum = 0\n",
    "\n",
    "while i < 101:\n",
    "    sum += i\n",
    "    i += 2\n",
    "print(sum)"
   ]
  },
  {
   "cell_type": "markdown",
   "id": "d94b6fdb",
   "metadata": {},
   "source": [
    "#### [문제 7]\n",
    "사용자로 부터 임의의 정수를 입력받고, 해당 숫자를 역순으로 출력하는 프로그램을 작성하시오."
   ]
  },
  {
   "cell_type": "code",
   "execution_count": 11,
   "id": "eb07afbd",
   "metadata": {},
   "outputs": [
    {
     "name": "stdout",
     "output_type": "stream",
     "text": [
      "정수를 입력하세요 : 3125\n",
      "숫자의 역순은 5213 입니다\n"
     ]
    }
   ],
   "source": [
    "user = input(\"정수를 입력하세요 : \")\n",
    "print(\"숫자의 역순은 \" + user[::-1] + \" 입니다\")"
   ]
  },
  {
   "cell_type": "markdown",
   "id": "f1ffbbe3",
   "metadata": {},
   "source": [
    "- input( ) 함수는 문자열 타입으로 반환하기 때문에 거꾸로 뒤집는 것이 가능하다."
   ]
  },
  {
   "cell_type": "markdown",
   "id": "0afc876d",
   "metadata": {},
   "source": [
    "#### [문제 8]\n",
    "사용자로 부터 정수를 입력받아서 1부터 그 사이에 존재하는 소수 (Prime number)를 출력하는 파이썬 프로그램을 작성하시오."
   ]
  },
  {
   "cell_type": "code",
   "execution_count": 12,
   "id": "a4f7eccf",
   "metadata": {
    "scrolled": true
   },
   "outputs": [
    {
     "name": "stdout",
     "output_type": "stream",
     "text": [
      "정수를 입력하세요 : 50\n",
      "2\n",
      "3\n",
      "5\n",
      "7\n",
      "11\n",
      "13\n",
      "17\n",
      "19\n",
      "23\n",
      "29\n",
      "31\n",
      "37\n",
      "41\n",
      "43\n",
      "47\n"
     ]
    }
   ],
   "source": [
    "user = int(input(\"정수를 입력하세요 : \"))\n",
    "for i in range(2, user+1):\n",
    "    result = 0\n",
    "    for j in range(2, i):\n",
    "        if(i%j==0):\n",
    "            result = 1\n",
    "    if result == 0:\n",
    "        print(i)"
   ]
  },
  {
   "cell_type": "markdown",
   "id": "323f5c39",
   "metadata": {},
   "source": [
    "#### [문제 9]\n",
    "Kevin과 Stuart는 게임을 한다. 규칙은 아래와 같다.\n",
    "\n",
    "- 두 플레이어에게 같은 string, S, 가 주어진다.\n",
    "- 두 플레이어는 string S의 문자를 사용하여 substring을 만들어야 한다(중복 가능).\n",
    "- Stuart는 자음으로 시작하는 단어를 만들어야 한다.\n",
    "- Kevin은 모음으로 시작하는 단어를 만들어야 한다.\n",
    "- 게임은 두 플레이어가 만들 수 있는 모든 단어를 만들었을 때 끝난다.\n",
    "- 점수 계산 : substring 1개당 +1 점을 획득한다. (아래 그림 참고)\n",
    "- 사용자로 부터 대문자로 이루어진 string S를 입력받고, 승자와 그의 점수를 출력하는 프로그램을 작성하시오."
   ]
  },
  {
   "cell_type": "code",
   "execution_count": 13,
   "id": "1d570085",
   "metadata": {},
   "outputs": [
    {
     "name": "stdout",
     "output_type": "stream",
     "text": [
      "string S를 입력하세요: BANANA\n",
      "승자: Stuart 점수:  12\n"
     ]
    }
   ],
   "source": [
    "# string S를 입력하세요: BANANA\n",
    "# 승자: Stuart 점수: 12\n",
    "\n",
    "def game(string):\n",
    "    scores = {\"Stuart\": 0, \"Kevin\": 0}\n",
    "    for i in range(len(string)):\n",
    "        if string[i] in \" AEIOU\": # 모음\n",
    "            scores[\"Kevin\"] += len(string) - i # 문자열의 길이 - 반복 횟수\n",
    "        else: # 자음\n",
    "            scores[\"Stuart\"] += len(string) - i # 문자열의 길이 - 반복 횟수\n",
    "    \n",
    "    if scores[\"Stuart\"] > scores[\"Kevin\"]:\n",
    "        print(\"승자: Stuart 점수: \", scores[\"Stuart\"])\n",
    "    else:\n",
    "        print(\"승자: Kevin 점수: \", scores[\"Kevin\"])\n",
    "\n",
    "\n",
    "if __name__ == '__main__':\n",
    "    user = input(\"string S를 입력하세요: \")\n",
    "    game(user)   "
   ]
  },
  {
   "cell_type": "markdown",
   "id": "b33cf1a1",
   "metadata": {},
   "source": [
    "String S = BANANA 일 때, 문자열의 길이는 6이고 다음과 같이 게임이 진행\n",
    "- 1번째 : B(자음) -> i=0, 6-0=6, 스튜어트 6점 획득, 점수:6\n",
    "- 2번째 : A(모음) -> i=1, 6-1=5, 케빈 5점 획득, 점수:5\n",
    "- 3번째 : N(자음) -> i=2, 6-2=4, 스튜어트 4점 획득, 점수:10\n",
    "- 4번째 : A(모음) -> i=3, 6-3=3, 케빈 3점 획득, 점수:8\n",
    "- 5번째 : N(자음) -> i=4, 6-4=2, 스튜어트 2점 획득, 점수:12\n",
    "- 6번째 : A(모음) -> i=5, 6-5=1, 케빈 1점 획득, 점수:9\n",
    "- 최종 점수 : 스튜어트 12점, 케빈 9점 / 승자 : 스튜어트\n",
    "\n",
    "\n",
    "- game( ) 함수 내부<br>\n",
    "  스튜어트와 케빈의 점수는 0으로 초기화를 해주었다.\n",
    "  for 문을 활용하여 게임은 문자열의 길이만큼 반복하였고,\n",
    "  if-else 문을 사용해 모음, 자음을 구별하여 점수를 주도록 하였다.\n",
    "  문자열의 길이에서 반복한 횟수를 뺀 만큼 점수를 부여하도록 하였고,\n",
    "  if-else 문을 사용하여 승자와 점수를 출력하였다.\n",
    "  \n",
    "- game( ) 함수 외부<br>\n",
    "  사용자로부터 문자열을 입력받기 위해 input( ) 함수를 사용했다.\n",
    "  if __name__ == '__main__':와 같이 조건문을 통해 직접 호출되어 사용하도록 했다.\n",
    "  game(user)와 같이 호출되었을 때 game( ) 함수를 수행하도록 하였다."
   ]
  },
  {
   "cell_type": "markdown",
   "id": "7fbca1e4",
   "metadata": {},
   "source": [
    "#### [문제 10]\n",
    "알파벳 소문자만으로 이루어진 string, S, 가 주어지고 아래 2가지 연산을 수행할 수 있다.\n",
    "- 추가 : string S의 끝에 알파벳 소문자 하나를 추가한다.\n",
    "- 삭제 : string S의 마지막 문자 하나를 삭제한다. empty string에서 삭제 연산을 수행한 결과는 empty string이다.\n",
    "\n",
    "두 개의 string, s와 t, 그리고 정수 k가 주어질 때, 정확히 k번의 연산을 통해 s를 t로 바꿀 수 있는지 판단하는 함수를 작성하시오.\n",
    "\n",
    "- [예시]\n",
    "\n",
    "   1. s = 'hackerhappy'    t = 'hackerrank'    k = 9    => 'Yes'\n",
    "\n",
    "   2. s = 'aba'            t = 'aba'           k = 7    => 'Yes'\n",
    "\n",
    "   3. s = 'ashley'         t = 'ash'           k = 2    => 'No'"
   ]
  },
  {
   "cell_type": "code",
   "execution_count": 14,
   "id": "7e430fc7",
   "metadata": {},
   "outputs": [],
   "source": [
    "def appendDelete(s, t, k):\n",
    "    count = 0\n",
    "    for i in range(0, min(len(s), len(t))):\n",
    "        # s의 i번째 문자와 t의 i번째 문자가 같은 경우\n",
    "        if s[i] == t[i]: \n",
    "            count += i \n",
    "        else:\n",
    "            break\n",
    "            \n",
    "    # k번의 연산보다 작거나 같은 경우 - Yes\n",
    "    if (len(s) + len(t) - 2*count) <= k: return 'Yes'\n",
    "    \n",
    "    # 남은 추가 이동 수를 2로 나웠을 때 0인 경우\n",
    "    elif (k - (len(s) + len(t) - 2*count) % 2 == 0): return 'Yes'\n",
    "    \n",
    "    # 두 문자열의 길이의 합이 k보다 작거나 같을 경우\n",
    "    elif (len(s) + len(t) <= k): return 'Yes'\n",
    "    \n",
    "    else: return 'No'"
   ]
  },
  {
   "cell_type": "markdown",
   "id": "9f4c2439",
   "metadata": {},
   "source": [
    "- for 문 사용 : 두 문자열 중 문자열의 길이가 작은 수만큼 반복(=i)\n",
    "  s의 i번째 알바벳과 t의 i번째 알파벳이 같을 경우, count가 i씩 증가하고\n",
    "  아닐 경우에는 count를 그만하고 루프를 중단하고 빠져나오도록 하였다.\n",
    "  \n",
    "  \n",
    "- if-else 문을 사용해 4가지로 구분하였다.\n",
    "  1. k번의 연산보다 삽입 및 추가를 적게 하여 s를 t로 바꿀 수 있는 경우\n",
    "  2. 남은 추가 이동 횟수를 2로 나눴을 때 0인 경우 : 삽입 및 추가를 할 경우에는 이동 횟수가 짝수가 된다. 따라서 남은 이동 횟수를 2로 나눴을 경우에 0이 되면 k번의 연산으로 s를 t로 바꿀 수 있게 된다.\n",
    "  3.두 문자열의 길이의 합이 k번의 연산을 통해 s를 t로 바꿀 수 있는 경우\n",
    "  4. 1~3이 만족하지 않은 경우, 즉 k번의 연산을 통해 s를 t로 바꿀 수 없다."
   ]
  },
  {
   "cell_type": "code",
   "execution_count": 15,
   "id": "81379d36",
   "metadata": {},
   "outputs": [
    {
     "data": {
      "text/plain": [
       "'Yes'"
      ]
     },
     "execution_count": 15,
     "metadata": {},
     "output_type": "execute_result"
    }
   ],
   "source": [
    "s = 'hackerhappy'\n",
    "t = 'hackerrank' \n",
    "k = 9 \n",
    "appendDelete(s,t,k)"
   ]
  },
  {
   "cell_type": "code",
   "execution_count": 16,
   "id": "d06e9910",
   "metadata": {},
   "outputs": [
    {
     "data": {
      "text/plain": [
       "'Yes'"
      ]
     },
     "execution_count": 16,
     "metadata": {},
     "output_type": "execute_result"
    }
   ],
   "source": [
    "s = 'aba' \n",
    "t = 'aba' \n",
    "k = 7\n",
    "appendDelete(s,t,k)"
   ]
  },
  {
   "cell_type": "code",
   "execution_count": 17,
   "id": "89cfcee9",
   "metadata": {},
   "outputs": [
    {
     "data": {
      "text/plain": [
       "'No'"
      ]
     },
     "execution_count": 17,
     "metadata": {},
     "output_type": "execute_result"
    }
   ],
   "source": [
    "s = 'ashley' \n",
    "t = 'ash' \n",
    "k = 2\n",
    "appendDelete(s,t,k)"
   ]
  },
  {
   "cell_type": "markdown",
   "id": "7ecf03b5",
   "metadata": {},
   "source": [
    "> <span style=\"color:gray\">느낀점</span>\n",
    "> - 9,10번 문제에서 문제와 예시를 이해하는 데 시간이 걸렸다.\n",
    "    다른 문제에 비해 더 많이 투자한 만큼 주어진 예시와 같은 출력 결과가 나왔을 때\n",
    "    희열을 배로 느낄 수 있었다. \n",
    "> - 함수를 만드는 과정이 미숙한 것 같아 많은 실습과 노력이 필요하다는 것을 느낄 수 있었다."
   ]
  }
 ],
 "metadata": {
  "kernelspec": {
   "display_name": "Python 3",
   "language": "python",
   "name": "python3"
  },
  "language_info": {
   "codemirror_mode": {
    "name": "ipython",
    "version": 3
   },
   "file_extension": ".py",
   "mimetype": "text/x-python",
   "name": "python",
   "nbconvert_exporter": "python",
   "pygments_lexer": "ipython3",
   "version": "3.8.8"
  }
 },
 "nbformat": 4,
 "nbformat_minor": 5
}
