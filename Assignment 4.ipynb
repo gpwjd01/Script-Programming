{
 "cells": [
  {
   "cell_type": "markdown",
   "id": "20045531",
   "metadata": {},
   "source": [
    "# Assignment 4"
   ]
  },
  {
   "cell_type": "markdown",
   "id": "63ee7c5a",
   "metadata": {},
   "source": [
    "## [일반문제]"
   ]
  },
  {
   "cell_type": "markdown",
   "id": "7f39156f",
   "metadata": {},
   "source": [
    "#### [문제 1]\n",
    "1. 다음 문제를 읽고 알맞은 코드를 제시하시오.\n",
    "   - 1) 파일 s.txt 내의 다음 내용과 함께 아래 문제의 코드를 제시하시오.\n",
    "   - 2) 파일 s.txt을 읽어서 각 라인에 있는 첫 번째 단어(문자열) 자체들을 기준으로 라인별 정렬후 파일 s1.txt에 그 결과를 기록하는 코드를 작성하시오.\n",
    "   - 3) 파일 s.txt을 읽어서 각 라인에 있는 두 번째 단어(문자열) 자체들을 기준으로 라인별 정렬후 파일 s2.txt에 그 결과를 기록하는 코드를 작성하시오.\n",
    "   - 파일 s.txt을 읽어서 각 라인들에 있는 모든 단어들을 순차적으로 다시 나열하되 각 라인에 세 개의 단어들이 오도록 하여 s3.txt에 기록하는 코드를 작성하시오."
   ]
  },
  {
   "cell_type": "code",
   "execution_count": 1,
   "id": "e2c54a36",
   "metadata": {},
   "outputs": [
    {
     "name": "stdout",
     "output_type": "stream",
     "text": [
      "pig ham\n",
      "cat dog\n",
      "ham bird\n",
      "dog pig\n"
     ]
    }
   ],
   "source": [
    "s = '''pig ham\n",
    "cat dog\n",
    "ham bird\n",
    "dog pig'''\n",
    "\n",
    "with open('s.txt','w') as f:\n",
    "    f.write(s)\n",
    "with open('s.txt','r') as f:\n",
    "    print(f.read())"
   ]
  },
  {
   "cell_type": "code",
   "execution_count": 2,
   "id": "2be47233",
   "metadata": {},
   "outputs": [
    {
     "name": "stdout",
     "output_type": "stream",
     "text": [
      "cat dog\n",
      "dog pig\n",
      "ham bird\n",
      "pig ham\n"
     ]
    }
   ],
   "source": [
    "with open('s.txt', 'r') as f:\n",
    "    list1 = [list1.strip('\\n') for list1 in f.readlines()]\n",
    "    list1.sort()\n",
    "    s = '\\n'.join(list1)\n",
    "    \n",
    "with open('s1.txt', 'w') as f:\n",
    "    f.write(s)\n",
    "with open('s1.txt', 'r') as f:\n",
    "    print(f.read())"
   ]
  },
  {
   "cell_type": "markdown",
   "id": "a03536d8",
   "metadata": {},
   "source": [
    "- 라인별로 읽어온 문자열에서 개행문자를 제거하고 리스트로 만들어 list에 저장\n",
    "- 정렬된 문자열을 '\\n'를 기준으로 문자열을 만들어 s에 저장"
   ]
  },
  {
   "cell_type": "code",
   "execution_count": 3,
   "id": "5712c1f3",
   "metadata": {},
   "outputs": [
    {
     "name": "stdout",
     "output_type": "stream",
     "text": [
      "ham bird\n",
      "cat dog\n",
      "pig ham\n",
      "dog pig\n"
     ]
    }
   ],
   "source": [
    "with open('s.txt', 'r') as f:\n",
    "    list1 = [list1.strip('\\n') for list1 in f.readlines()]\n",
    "    list1.sort(key=lambda x : x[x.find(' ') + 1])\n",
    "    s = '\\n'.join(list1)\n",
    "    \n",
    "with open('s2.txt', 'w') as f:\n",
    "    f.write(s)\n",
    "with open('s2.txt', 'r') as f:\n",
    "    print(f.read())"
   ]
  },
  {
   "cell_type": "code",
   "execution_count": 4,
   "id": "d2e459be",
   "metadata": {},
   "outputs": [
    {
     "name": "stdout",
     "output_type": "stream",
     "text": [
      "pig ham cat\n",
      "dog ham bird\n",
      "dog pig\n"
     ]
    }
   ],
   "source": [
    "with open('s.txt' ,'r') as f:\n",
    "    s = f.read()\n",
    "    list1 = s.split()\n",
    "    for line, word in enumerate(list1):\n",
    "        if line == len(list1) - 1: continue\n",
    "        elif (line + 1) % 3 == 0: list1[line] = word + '\\n'\n",
    "        else: list1[line] = word + ' '\n",
    "\n",
    "with open('s3.txt', 'w') as f:\n",
    "    for word in list1: \n",
    "        f.write(word)\n",
    "with open('s3.txt', 'r') as f:\n",
    "    print(f.read())"
   ]
  },
  {
   "cell_type": "markdown",
   "id": "67ef407a",
   "metadata": {},
   "source": [
    "- 공백문자 기준으로 리스트를 만들어 list에 저장\n",
    "1. 마지막 단어는 처리하지 않는다.\n",
    "2. 라인을 분리하기 위해 3번째 단어 뒤에 '\\n'에 추가한다.\n",
    "3. 나머지 단어에 공백문자를 추가한다."
   ]
  },
  {
   "cell_type": "markdown",
   "id": "0efb4546",
   "metadata": {},
   "source": [
    "#### [문제 2]\n",
    "2. 다음과 같은 조건들을 참고하여 회원 가입 및 로그인 프로그램을 작성하시오.\n",
    "   - 1) 프로그램 시작 후 다음과 같은 메시지가 출력되어 1, 2, 3 중 하나의 값을 입력 받도록 한다.\n",
    "   - 2) 1을 선택하면 ID, Password, Name, School의 4가지 정보를 입력받아 파일에 저장하는 프로그램을 작성한다.\n",
    "        - 2-1) 입력된 내용은 access.txt 라는 이름의 텍스트 파일 내에 저장된다.\n",
    "        - 2-2) access.txt 파일의 각 라인에는 가입된 회원 각각의 정보가 \"[id]: [password], [name], [school]\" 형태로 저장된다.\n",
    "        - 2-3) 즉, 가입 회원이 10명이면 access.txt 파일 내에 라인 수도 정확히 10개이다.\n",
    "        - 2-4) 암호화 방식은 sha 모듈을 활용한다. sha 모듈 활용 방법은 본 문제의 마지막에 제시된 sha 활용 예를 참고한다.\n",
    "            - 즉, access.txt 파일 내에 password 정보는 암호화 되어 저장되어야 한다.\n",
    "        - 2-5) 회원 정보를 입력 받을 때 id를 입력 받은 직후 access.txt를 확인하여 이미 존재하는 id가 입력되었다면 다음 메시지를 출력하고 id 정보를 다시 입력받는다.\n",
    "            - Sorry, the entered ID is already used.\n",
    "   - 3) 2를 선택하면 ID, Password의 2가지 정보를 입력받는 프로그램을 작성한다.\n",
    "        - 3-1) 입력된 ID 정보가 access.txt에 존재하지 않으면 다음과 같은 메시지를 출력하고 다시 입력받는다.\n",
    "            - Sorry, you are not a registered member.\n",
    "        - 3-2) 입력된 ID가 올바르게 존재하지만 Password 정보가 access.txt 파일에 있는 정보와 불일치하면 다음과 같은 메시지를 출력하고 Password를 다시 입력받는다.\n",
    "            - Sorry, the entered password is not correct.\n",
    "            - 이 때에도 사용자가 입력한 Password 정보와 함께 sha 모듈이 활용되어야 한다.\n",
    "        - 3-3) 입력된 ID와 Password가 모두 올바르면 다음과 같은 메시지를 출력한다.\n",
    "            - Hello [name]!\n",
    "            - 위 [name]에는 access.txt에 기록되어 있는 name 정보를 출력한다.\n",
    "   - 4) 3을 선택하면 프로그램이 끝난다.\n",
    "   - [참고] sha 모듈 활용 예"
   ]
  },
  {
   "cell_type": "code",
   "execution_count": 5,
   "id": "2473522f",
   "metadata": {},
   "outputs": [
    {
     "name": "stdout",
     "output_type": "stream",
     "text": [
      "b94d27b9934d3e08a52e52d7da7dabfac484efe37a5380ee9088f7ace2efcde9\n"
     ]
    }
   ],
   "source": [
    "# import sha\n",
    "# password_plain = \"12345678\"\n",
    "# password_encrypted = sha.new(password_plain).hexdigest()\n",
    "# print(password_encrypted)\n",
    "\n",
    "import hashlib\n",
    "pw = \"hello world\"\n",
    "pw_encrypted = hashlib.sha256(pw.encode()).hexdigest()\n",
    "print(pw_encrypted)"
   ]
  },
  {
   "cell_type": "code",
   "execution_count": 6,
   "id": "7822657e",
   "metadata": {
    "scrolled": true
   },
   "outputs": [
    {
     "name": "stdout",
     "output_type": "stream",
     "text": [
      "Welcome to Our Service\n",
      "    1. Sign Up\n",
      "    2. Sign In\n",
      "    3. Quit\n",
      "1\n",
      "ID : user1\n",
      "Password : 1111\n",
      "Name : 우원재\n",
      "School : 홍익대학교\n",
      "Welcome to Our Service\n",
      "    1. Sign Up\n",
      "    2. Sign In\n",
      "    3. Quit\n",
      "2\n",
      "ID : user1\n",
      "Password : 2222\n",
      "Sorry, the entered password is not correct.\n",
      "Welcome to Our Service\n",
      "    1. Sign Up\n",
      "    2. Sign In\n",
      "    3. Quit\n",
      "2\n",
      "ID : user2\n",
      "Password : 2222\n",
      "Sorry, you are not a registered member.\n",
      "Welcome to Our Service\n",
      "    1. Sign Up\n",
      "    2. Sign In\n",
      "    3. Quit\n",
      "2\n",
      "ID : user1\n",
      "Password : 1111\n",
      "Hello [우원재]!\n",
      "Welcome to Our Service\n",
      "    1. Sign Up\n",
      "    2. Sign In\n",
      "    3. Quit\n",
      "3\n"
     ]
    }
   ],
   "source": [
    "import hashlib\n",
    "select = 0\n",
    "checkId = False\n",
    "s = '''Welcome to Our Service\n",
    "    1. Sign Up\n",
    "    2. Sign In\n",
    "    3. Quit\n",
    "'''\n",
    "select = int(input(s))\n",
    "\n",
    "# [id]: [password], [name], [school]\n",
    "while(select != 3):\n",
    "    if(select == 1):\n",
    "        identity = input(\"ID : \")\n",
    "        password = input(\"Password : \")\n",
    "        name = input(\"Name : \")\n",
    "        school = input(\"School : \")\n",
    "        password_encrypted = hashlib.sha1(password.encode('utf-8')).hexdigest()\n",
    "        with open('access.txt', 'r') as f:\n",
    "            for line in f:\n",
    "                i = line.split(':')[0]\n",
    "                if(i == identity):\n",
    "                    print(\"Sorry, the entered ID is already used.\")\n",
    "                    print()\n",
    "                    checkId = True\n",
    "                    break\n",
    "        if(not checkId):\n",
    "            with open('access.txt', 'a') as f:\n",
    "                f.write(identity + \":\" + password_encrypted + \",\" + name + \",\" + school + \"\\n\")\n",
    "    \n",
    "    if(select == 2):\n",
    "        checkID = True\n",
    "        identity = input(\"ID : \")\n",
    "        password = input(\"Password : \")\n",
    "        password_encrypted = hashlib.sha1(password.encode('utf-8')).hexdigest()\n",
    "        with open('access.txt', 'r') as f:\n",
    "            for line in f:\n",
    "                i = line.split(':')[0]\n",
    "                if(i == identity):\n",
    "                    password_read = line.split(':')[1].split(',')[0]\n",
    "                    if(password_read == password_encrypted):\n",
    "                        print(\"Hello [\" + line.split(':')[1].split(',')[1] + \"]!\")\n",
    "                    else:\n",
    "                        print(\"Sorry, the entered password is not correct.\")\n",
    "                else:\n",
    "                    print(\"Sorry, you are not a registered member.\")\n",
    "    select = int(input(s))"
   ]
  },
  {
   "cell_type": "markdown",
   "id": "d813e52e",
   "metadata": {},
   "source": [
    "#### [문제 3]\n",
    "3. range() 함수와 유사한 frange() 함수를 다음 조건을 참고하여 만드시오.\n",
    "\n",
    "    - 1) frange()의 인자 구성은 다음과 같이 range와 동일하지만 각 인수들은 음수를 받지 않는다고 가정한다.\n",
    "                range(stop)\n",
    "                range(start, stop[, step])\n",
    "    - 2) frange() 함수의 인자에 대한 기본 시작(start) 값은 0.0이고, 기본 단계(step) 값은 0.1이다.\n",
    "    - 3) frange 사용 예\n",
    "        - 3-1) frange(0.5)\n",
    "            - [0.0, 0.1, 0.2, 0.3, 0.4]\n",
    "        - 3-2) frange(1.0, 2.0)\n",
    "            - [1.0, 1.1, 1.2, 1.3, 1.4, 1.5, 1.6, 1.7, 1.8, 1.9]\n",
    "        - 3-3) frange(2.2, 4.0, 0.5)\n",
    "            - [2.2, 2.7, 3.2, 3.7]"
   ]
  },
  {
   "cell_type": "code",
   "execution_count": 7,
   "id": "688134ff",
   "metadata": {},
   "outputs": [
    {
     "name": "stdout",
     "output_type": "stream",
     "text": [
      "[0.0, 0.1, 0.2, 0.3, 0.4]\n",
      "[1.0, 1.1, 1.2, 1.3, 1.4, 1.5, 1.6, 1.7, 1.8, 1.9]\n",
      "[2.2, 2.7, 3.2, 3.7]\n"
     ]
    }
   ],
   "source": [
    "def frange(start=0.0, stop=0.0, step=0.1):\n",
    "    list3 = []\n",
    "    if start > stop:\n",
    "        stop, start = start,stop\n",
    "    while(start < stop):\n",
    "        # round함수를 통해 소수점 자릴 한정시킴\n",
    "        start = round(start,2)\n",
    "        list3.append(start)\n",
    "        start+=step\n",
    "    return list3\n",
    "\n",
    "print(frange(0.5))\n",
    "print(frange(1.0, 2.0))\n",
    "print(frange(2.2, 4.0, 0.5))"
   ]
  },
  {
   "cell_type": "markdown",
   "id": "235642a1",
   "metadata": {},
   "source": [
    "#### [문제 4]\n",
    "4. 가변인수를 받는 함수 sum()을 다음과 같은 조건을 참고하여 구현하시오\n",
    "\n",
    "    - sum() 사용 예\n",
    "            sum()\n",
    "            0\n",
    "\n",
    "            sum(1, 2)\n",
    "            3\n",
    "\n",
    "            sum(1, 2, 3, 4, 5)\n",
    "            15\n",
    "\n",
    "            sum(1, 5, 7, 2, -10)\n",
    "            5"
   ]
  },
  {
   "cell_type": "code",
   "execution_count": 8,
   "id": "e948139a",
   "metadata": {},
   "outputs": [
    {
     "name": "stdout",
     "output_type": "stream",
     "text": [
      "0\n",
      "3\n",
      "15\n",
      "5\n"
     ]
    }
   ],
   "source": [
    "def sum(*num):\n",
    "    result = 0\n",
    "    for i in num: result += i\n",
    "    return result\n",
    "\n",
    "print(sum())\n",
    "print(sum(1, 2))\n",
    "print(sum(1, 2, 3, 4, 5))\n",
    "print(sum(1, 5, 7, 2, -10))"
   ]
  },
  {
   "cell_type": "markdown",
   "id": "a2a23746",
   "metadata": {},
   "source": [
    "#### [문제 5]\n",
    "5. 여러 단어로 이루어진 문자열을 입력받아 각 단어의 첫글자로 이루어진 단어를 대문자로 출력하는 myinitial() 함수를 다음 조건을 참고하여 작성하시오.\n",
    "\n",
    "    - 1) 다음에 제시되는 함수들을 모두 이용해야 한다.\n",
    "\n",
    "        - split\n",
    "        - map\n",
    "        - join\n",
    "    - 2) myinitial() 함수 사용 예\n",
    "\n",
    "        - myinitial(\"as soon as possible\")\n",
    "            - ASAP"
   ]
  },
  {
   "cell_type": "code",
   "execution_count": 9,
   "id": "5d96005c",
   "metadata": {},
   "outputs": [
    {
     "name": "stdout",
     "output_type": "stream",
     "text": [
      "ASAP\n",
      "WAI\n"
     ]
    }
   ],
   "source": [
    "def myinitial(s):\n",
    "    list5 = s.split() #공백단위분리\n",
    "    list5 = list(map(lambda x : x[0].upper(),list5))#각 문자열 첫 번째 단어를 대문자로 변경하고, 그 단어로만 구성된 리스트 생성  \n",
    "    return \"\".join(list5) #리스트를 문자열로 변경\n",
    "\n",
    "print(myinitial(\"as soon as possible\"))\n",
    "print(myinitial(\"who am i\"))"
   ]
  },
  {
   "cell_type": "markdown",
   "id": "75d6f3a2",
   "metadata": {},
   "source": [
    "#### [문제 6]\n",
    "6. 음이 아닌 정수 n를 입력받으면 n! (factorial)을 계산하는 myfact() 함수를 재귀적 함수로 구현하시오.\n",
    "    - [옵션] 참을 수 있는 정도 만큼의 수행시간을 직접 기다려보면서 n을 늘려보도록 합시다."
   ]
  },
  {
   "cell_type": "code",
   "execution_count": 10,
   "id": "5a07b4fd",
   "metadata": {
    "scrolled": true
   },
   "outputs": [
    {
     "name": "stdout",
     "output_type": "stream",
     "text": [
      "120\n",
      "3628800\n",
      "93326215443944152681699238856266700490715968264381621468592963895217599993229915608941463976156518286253697920827223758251185210916864000000000000000000000000\n",
      "402387260077093773543702433923003985719374864210714632543799910429938512398629020592044208486969404800479988610197196058631666872994808558901323829669944590997424504087073759918823627727188732519779505950995276120874975462497043601418278094646496291056393887437886487337119181045825783647849977012476632889835955735432513185323958463075557409114262417474349347553428646576611667797396668820291207379143853719588249808126867838374559731746136085379534524221586593201928090878297308431392844403281231558611036976801357304216168747609675871348312025478589320767169132448426236131412508780208000261683151027341827977704784635868170164365024153691398281264810213092761244896359928705114964975419909342221566832572080821333186116811553615836546984046708975602900950537616475847728421889679646244945160765353408198901385442487984959953319101723355556602139450399736280750137837615307127761926849034352625200015888535147331611702103968175921510907788019393178114194545257223865541461062892187960223838971476088506276862967146674697562911234082439208160153780889893964518263243671616762179168909779911903754031274622289988005195444414282012187361745992642956581746628302955570299024324153181617210465832036786906117260158783520751516284225540265170483304226143974286933061690897968482590125458327168226458066526769958652682272807075781391858178889652208164348344825993266043367660176999612831860788386150279465955131156552036093988180612138558600301435694527224206344631797460594682573103790084024432438465657245014402821885252470935190620929023136493273497565513958720559654228749774011413346962715422845862377387538230483865688976461927383814900140767310446640259899490222221765904339901886018566526485061799702356193897017860040811889729918311021171229845901641921068884387121855646124960798722908519296819372388642614839657382291123125024186649353143970137428531926649875337218940694281434118520158014123344828015051399694290153483077644569099073152433278288269864602789864321139083506217095002597389863554277196742822248757586765752344220207573630569498825087968928162753848863396909959826280956121450994871701244516461260379029309120889086942028510640182154399457156805941872748998094254742173582401063677404595741785160829230135358081840096996372524230560855903700624271243416909004153690105933983835777939410970027753472000000000000000000000000000000000000000000000000000000000000000000000000000000000000000000000000000000000000000000000000000000000000000000000000000000000000000000000000000000000000000000000000000000000000000000000000000000000000000000000000000000000\n"
     ]
    }
   ],
   "source": [
    "def myfact(n):\n",
    "    if n == 1 : return 1\n",
    "    else : return n * myfact(n-1)\n",
    "print(myfact(5))\n",
    "print(myfact(10))\n",
    "print(myfact(100))\n",
    "print(myfact(1000))\n",
    "# print(myfact(10000))"
   ]
  },
  {
   "cell_type": "markdown",
   "id": "d4cc2952",
   "metadata": {},
   "source": [
    "#### [문제 7]\n",
    "7. (서술형) import string 과 from string import * 의 차이점을 설명하시오."
   ]
  },
  {
   "cell_type": "code",
   "execution_count": 11,
   "id": "cde153fc",
   "metadata": {},
   "outputs": [
    {
     "data": {
      "text/plain": [
       "'0123456789'"
      ]
     },
     "execution_count": 11,
     "metadata": {},
     "output_type": "execute_result"
    }
   ],
   "source": [
    "import string\n",
    "string.digits"
   ]
  },
  {
   "cell_type": "code",
   "execution_count": 12,
   "id": "4e185b16",
   "metadata": {},
   "outputs": [
    {
     "data": {
      "text/plain": [
       "'0123456789'"
      ]
     },
     "execution_count": 12,
     "metadata": {},
     "output_type": "execute_result"
    }
   ],
   "source": [
    "from string import*\n",
    "digits"
   ]
  },
  {
   "cell_type": "markdown",
   "id": "d4529107",
   "metadata": {},
   "source": [
    "- from string import*은 string 모듈 내의 '__'으로 시작하는 특수한 이름을 제외한 모든 이름들을 현재의 이름 공간으로 불어들이기 때문에 digits와 같이 모듈 이름 없이 직접 사용이 가능하다. 반면에 import string은 이름 공간에 string 모듈 이름을 그대로 추가해 유지하기 때문에 string 모듈의 이름 공간 내에 있는 이름들을 직접 사용할 수는 없으나 string.digits와 같은 형태로 자격 이름을 사용한다."
   ]
  },
  {
   "cell_type": "markdown",
   "id": "ab00d82b",
   "metadata": {},
   "source": [
    "## [Incremental Project 문제]"
   ]
  },
  {
   "cell_type": "markdown",
   "id": "dfe175c5",
   "metadata": {},
   "source": [
    "8. 이전 Assignment 3의 마지막 문제는 웹 URL로 지정된 웹페이지를 문자열로 가져와 모든 HTML 태그 및 CSS와 Javascript를 제외한 순수 텍스트를 얻어내고 그 안에 존재하는 단어를 추출하여 각 단어들에 대해 출현빈도를 사전형태({'world': 2, 'hello': 1, 'python': 1})로 저장하여 출력하는 것이었다. 이번에는 Assignment 3를 확장하여 다음과 같은 조건을 만족하도록 구현하시오.\n",
    "    - 1) 다음 사이트에서 제시되는 불용어 (Stop words)를 참고하여 이전 숙제에서 구성했던 단어 사전에서 불용어들을 모두 제거하는 코드를 추가하시오.\n",
    "        - 영어 불용어: http://www.lextek.com/manuals/onix/stopwords1.html\n",
    "        - 한글 불용어: https://raw.githubusercontent.com/stopwords-iso/stopwords-ko/master/stopwords-ko.txt\n",
    "    - 2) 각 URL로 지정된 웹페이지의 HTML 소스를 파일로 저장하시오.\n",
    "        - URL이 http://URL 이라면 파일명은 URL.html 이다.\n",
    "            - 예: URL이 http://www.cnn.com 이라면 파일명은 www.cnn.com.html 이다.\n",
    "    - 3) 단어의 출현빈도가 담긴 사전 객체를 위 HTML 소스 파일과 동일한 폴더에 파일로 저장하시오.\n",
    "        - 파일입출력 (E-learning 13주차) 마지막에 학습한 pickle 모듈을 활용하시오.\n",
    "        - URL이 http://URL 이라면 사전 객체를 담고 있는 파일명은 URL.words_frequency.pickle 이다.\n",
    "            - 예: URL이 http://www.cnn.com 이라면 파일명은 www.cnn.com.words_frequency.pickle 이다.\n",
    "    - 4) 최소 5개 이상의 웹 사이트 각각에 대한 HTML 소스 파일과 단어 출현빈도 파일을 저장하시오.\n",
    "        - 즉, 5개의 웹 사이트에 대해 총 10개의 파일을 동일한 폴더에 생성하시오.\n",
    "        - [주의] 가능하면 웹사이트에 단어들이 많고 다루는 주제가 서로 다른 웹 사이트들로 선정하는 것 추천\n",
    "    - 5) 위 문제에서 저장한 모든 pickle 파일들을 객체로 다시 로드하여 본인이 저장하여 분석한 사이트들 각각에 대해서 가장 많이 출현한 단어 3개씩를 뽑아 제시하시오.\n",
    "        - 반드시 pickle 모듈로 저장한 5개 이상의 pickle 파일들을 다시 5개 이상의 사전 객체로 로드 하는 코드가 추가되어야 함\n",
    "    - 6) 간단한 검색엔진 코딩 (Like Google!!!)\n",
    "        - 사용자에게 임의의 검색어 (하나 또는 여러 단어로 구성) 를 입력받으시오.\n",
    "            - 예:\n",
    "                - 대한민국\n",
    "                - 컴퓨터 공학\n",
    "                - 맛있는 음식\n",
    "                - 파이썬\n",
    "                - 한기대 장점\n",
    "        - 입력받은 검색어들에 대해서도 1)에서 제시하는 방법처럼 불용어 처리를 하여 정리\n",
    "        - 입력 받은 검색어와 유사도(Similarity)가 높은 웹 사이트 기준으로 위 4)에서 미리 지정해 놓은 5개 이상의 웹 사이트 URL들을 일렬로 나열하여 출력하시오.\n",
    "            - 검색어와 웹 사이트 간의 유사도는 본인이 스스로 정하시오.\n",
    "            - 유사도를 정하는 최소한의 기준은 단어 출현 빈도를 기반으로 해야 하며, 이외의 본인이 생각하는 방안이 있으면 함께 사용해도 됨.\n",
    "            - 유사도가 높은 웹 사이트가 상위에 출력되어야 함 (즉, 유사도 기준 내림 차순)\n",
    "            - 유사도가 동일한 웹 사이트들에 대해서는 임의 배치함.\n",
    "    - 7) [주의] 필수사항\n",
    "        - 위에서 만든 검색엔진 코딩은 매우 간단한 것이라 부족한 점이 많이 존재한다.\n",
    "        - 본인이 생각하기에 상업적인 완성도 높은 검색 로봇/엔진이 되려면 어떤 기능들이 추가적으로 구현되어야 할지 최소 1가지 이상 제시하시오."
   ]
  },
  {
   "cell_type": "code",
   "execution_count": 13,
   "id": "5b54cd66",
   "metadata": {},
   "outputs": [
    {
     "name": "stdout",
     "output_type": "stream",
     "text": [
      "[가장 많이 출현한 단어 3개 뽑기]\n",
      "https://www.google.co.kr : Google검색, 이미지, 지도\n",
      "https://www.koreatech.ac.kr : 한국기술교육대학교, 대학, 제공합니다\n",
      "http://www.naver.com : 영화, 전, 1주일\n",
      "http://www.daum.net : classlinkthumb, datatiaraactionname오늘의, 포토데이터\n",
      "http://www.nytimes.com : the, to, for\n",
      "\n",
      "검색어를 입력하세요 : 오늘\n",
      "\t유사도: 1 :  https://www.koreatech.ac.kr\n",
      "\t유사도: 1 :  http://www.naver.com\n",
      "\t유사도: 0 :  https://www.google.co.kr\n",
      "\t유사도: 0 :  http://www.daum.net\n",
      "\t유사도: 0 :  http://www.nytimes.com\n"
     ]
    }
   ],
   "source": [
    "import requests\n",
    "import string\n",
    "import os\n",
    "import pickle\n",
    "\n",
    "with open(\"E_stopwords.txt\",'r') as f:\n",
    "    E_words = f.read()\n",
    "with open(\"Kor_stopwords.txt\",'r') as f:\n",
    "    Kor_words = f.read()\n",
    "with open(\"sign.txt\",'r') as f:\n",
    "    signWords=f.read()\n",
    "    \n",
    "E_stopwords = E_words.split() \n",
    "Kor_stopwords = Kor_words.split('\\n') \n",
    "sign_words = signWords.split() \n",
    "\n",
    "url = ['https://www.google.co.kr','https://www.koreatech.ac.kr'\n",
    "       ,'http://www.naver.com','http://www.daum.net','http://www.nytimes.com']\n",
    "\n",
    "srclist = []\n",
    "for i in range(len(url)):\n",
    "    srclist.append(requests.get(url[i]).text)\n",
    "\n",
    "def search(src): \n",
    "    i = 0\n",
    "    text = ''\n",
    "    while i < len(src): \n",
    "        if src[i] == '<': \n",
    "            if src[i:i+7] == '<script':\n",
    "                i += 7\n",
    "                while src[i:i+9] != '</script>':\n",
    "                    i += 1\n",
    "                i += 9\n",
    "            elif src[i:i+6]=='<style': \n",
    "                i += 6\n",
    "                while src[i:i+8] != '</style>':\n",
    "                    i += 1\n",
    "                i+=8\n",
    "            else :   \n",
    "                i += 1\n",
    "                while src[i] != '>':\n",
    "                    i += 1\n",
    "                i += 1\n",
    "        else:\n",
    "            text += src[i]\n",
    "            i += 1\n",
    "    return text.split()\n",
    "\n",
    "# 사전으로 변환\n",
    "def Filter(list):\n",
    "    # 영어 불용어 필터\n",
    "    for i in range(len(list)):\n",
    "        for j in range(len(E_stopwords)):\n",
    "            if list[i].lower() == E_stopwords[j]:\n",
    "                list[i] = ''\n",
    "                \n",
    "    # 한글 불용어 필터 \n",
    "    for i in range(len(list)):\n",
    "        for j in range(len(Kor_stopwords)):\n",
    "            if len(list[i]) >= len(Kor_stopwords[j]):\n",
    "                if list[i][-len(Kor_stopwords[j]):] == Kor_stopwords[j]:\n",
    "                    list[i] = list[i][:-len(Kor_stopwords[j])]\n",
    "\n",
    "                \n",
    "    # 특수문자 필터\n",
    "    for i in range(len(list)):\n",
    "        for j in range(len(sign_words)):\n",
    "            list[i]=list[i].replace(sign_words[j],'')\n",
    "    \n",
    "    return list\n",
    "\n",
    "# 특수문자 및 원소 값이 비어있으면 제거\n",
    "def remove(list): \n",
    "    for i in range(len(list)):\n",
    "        for j in range(len(string.punctuation)):\n",
    "            list[i] = list[i].replace(string.punctuation[j],'')\n",
    "    i = 0\n",
    "    while i != len(list):\n",
    "        if list[i] == '':\n",
    "            del list[i]\n",
    "        i += 1\n",
    "    return list\n",
    "\n",
    "# 단어들의 출현빈도\n",
    "def countWords(list): \n",
    "    d = {}\n",
    "    for i in range(len(list)):\n",
    "        d[list[i]] = 0\n",
    "    for i in range(len(list)):\n",
    "        d[list[i]] = d[list[i]] + 1\n",
    "    return d    \n",
    "\n",
    "dicts = [] \n",
    "dir = 'SearchData'\n",
    "if (not os.path.isdir(dir)): \n",
    "    os.mkdir(dir)\n",
    "for i in range(len(url)):\n",
    "    if(url[i][:7] == 'http://'):\n",
    "        s = url[i][7:] + '.html'\n",
    "    elif(url[i][:8] == 'https://'):\n",
    "        s = url[i][8:] + '.html'\n",
    "    with open(os.path.join(dir, s),'w', encoding='utf-8') as f:\n",
    "        f.write(srclist[i])\n",
    "     \n",
    "    \n",
    "    Punctuation = remove(search(srclist[i])) \n",
    "    dic = countWords(Punctuation) \n",
    "    \n",
    "    \n",
    "    if(url[i][:7] == 'http://'):\n",
    "        s = url[i][7:] + '.words_frequency.pickle'\n",
    "    elif(url[i][:8] == 'https://'):\n",
    "        s = url[i][8:] + '.words_frequency.pickle'\n",
    "    with open(os.path.join(dir, s),'wb') as f:\n",
    "        pickle.dump(dic,f)\n",
    "    with open(os.path.join(dir, s),'rb') as f:\n",
    "        dicts.append(pickle.load(f))\n",
    "        \n",
    "# 가장 많이 출현한 단어 3개 뽑기\n",
    "print(\"[가장 많이 출현한 단어 3개 뽑기]\")\n",
    "for i in range(len(dicts)):\n",
    "    Result = []\n",
    "    list1 = list(dicts[i].keys())\n",
    "    list2 = list(dicts[i].values())\n",
    "    Tuple = tuple(zip(list1,list2))\n",
    "    list2.sort(reverse = True) # 역순으로 정렬\n",
    "    \n",
    "    for j in range(len(list2)):\n",
    "        for k in range(len(Tuple)):\n",
    "            if list2[j] == Tuple[k][1]: \n",
    "                Result.append(Tuple[k][0])\n",
    "    print(url[i], ':', Result[0] + ', ' + Result[1] + ', ' + Result[2])\n",
    "\n",
    "def find():\n",
    "    print()\n",
    "    s = input(\"검색어를 입력하세요 : \")\n",
    "    similarity=[0 for i in range(len(dicts))]\n",
    "    slist = s.split()\n",
    "    slist = remove(slist)\n",
    "   \n",
    "    for i in range(len(dicts)): \n",
    "        for j in slist:\n",
    "            for k in dicts[i].keys():\n",
    "                if j == k:\n",
    "                    similarity[i] += dicts[i][j]\n",
    "    list = []\n",
    "    \n",
    "    tempDict = {}\n",
    "    for i in range(len(url)):\n",
    "        tempDict[url[i]] = 0\n",
    "        \n",
    "    for i in range(len(dicts)):\n",
    "        list.append((similarity[i], dicts[i]))\n",
    "    temp = [i for i in similarity]\n",
    "    temp.sort(reverse = True)\n",
    "    for i in range(len(temp)):\n",
    "        for j in range(len(list)):\n",
    "            if temp[i] == list[j][0]:\n",
    "                if tempDict[url[j]] == 0:\n",
    "                    print(\"\\t유사도:\", list[j][0], ': ' , url[j])\n",
    "                    tempDict[url[j]] = 1 \n",
    "                    break\n",
    "                elif tempDict[url[j]] == 1:\n",
    "                    continue\n",
    "find()"
   ]
  },
  {
   "cell_type": "markdown",
   "id": "f83f4b33",
   "metadata": {},
   "source": [
    "- 제거해야 할지 말지 판단하기 어려운 불용어가 포함되어 있는 문장에서 불용어의 쓰임새를 알기 위해 조사 혹은 관사로 사용되는 것과 명사의 일부로 쓰이는 것으로 나눠 값을 매겨 더 정확하게 제거 판단을 할 수 있는 기능\n",
    "- 문장을 검색하는 기능"
   ]
  },
  {
   "cell_type": "markdown",
   "id": "69e2e0c9",
   "metadata": {},
   "source": [
    "> <span style=\"color:gray\">느낀점</span>\n",
    "> - 파이썬에서는 재귀 호출 횟수를 제한해 오류가 발생한다는 것을 알 수 있었다.\n",
    "> - hashlib 모듈과 hexgigest()가 바이트 문자열을 16진수로 변환한 문자열을 리턴한다는 것을 알 수 있는 기회였다."
   ]
  }
 ],
 "metadata": {
  "kernelspec": {
   "display_name": "Python 3",
   "language": "python",
   "name": "python3"
  },
  "language_info": {
   "codemirror_mode": {
    "name": "ipython",
    "version": 3
   },
   "file_extension": ".py",
   "mimetype": "text/x-python",
   "name": "python",
   "nbconvert_exporter": "python",
   "pygments_lexer": "ipython3",
   "version": "3.8.8"
  }
 },
 "nbformat": 4,
 "nbformat_minor": 5
}
