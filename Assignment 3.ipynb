{
 "cells": [
  {
   "cell_type": "markdown",
   "id": "aa210e40",
   "metadata": {},
   "source": [
    "# Assignment 3"
   ]
  },
  {
   "cell_type": "markdown",
   "id": "a97c49e2",
   "metadata": {},
   "source": [
    "## [일반 문제]"
   ]
  },
  {
   "cell_type": "markdown",
   "id": "2bdde89c",
   "metadata": {},
   "source": [
    "#### [문제 1]\n",
    "1. L=[1, 2, 3, 4, 5]일 때 다음 각 문장을 수행한 후의 결과를 보고 납득할 만한 이유를 설명하시오."
   ]
  },
  {
   "cell_type": "code",
   "execution_count": 1,
   "id": "2d5b9297",
   "metadata": {},
   "outputs": [
    {
     "name": "stdout",
     "output_type": "stream",
     "text": [
      "[1, 100, 4, 5]\n"
     ]
    }
   ],
   "source": [
    "# 1\n",
    "L = [1,2,3,4,5]\n",
    "L[1:3] = [100]\n",
    "print(L)"
   ]
  },
  {
   "cell_type": "markdown",
   "id": "92ef7a96",
   "metadata": {},
   "source": [
    "- L[1]과 L[2]까지 슬라이싱 연산을 한 것으로 [2,3]을 [100]으로 치환된 리스트가 출력된다."
   ]
  },
  {
   "cell_type": "code",
   "execution_count": 2,
   "id": "ba0212f2",
   "metadata": {},
   "outputs": [
    {
     "name": "stdout",
     "output_type": "stream",
     "text": [
      "[1, 100, 4, 5]\n"
     ]
    }
   ],
   "source": [
    "# 2\n",
    "L = [1,2,3,4,5]\n",
    "L[1:3] = [(100)]\n",
    "print(L)"
   ]
  },
  {
   "cell_type": "markdown",
   "id": "95dc7c1f",
   "metadata": {},
   "source": [
    "- 괄호는 튜플이 아니라 표현식에서 우선순위로 묶어준다는 의미이므로 [2,3]을 [100]으로 치환된 리스트가 출력된다."
   ]
  },
  {
   "cell_type": "code",
   "execution_count": 3,
   "id": "b6855220",
   "metadata": {},
   "outputs": [
    {
     "ename": "TypeError",
     "evalue": "can only assign an iterable",
     "output_type": "error",
     "traceback": [
      "\u001b[0;31m---------------------------------------------------------------------------\u001b[0m",
      "\u001b[0;31mTypeError\u001b[0m                                 Traceback (most recent call last)",
      "\u001b[0;32m<ipython-input-3-5a9592d0bd8c>\u001b[0m in \u001b[0;36m<module>\u001b[0;34m\u001b[0m\n\u001b[1;32m      1\u001b[0m \u001b[0;31m# 3\u001b[0m\u001b[0;34m\u001b[0m\u001b[0;34m\u001b[0m\u001b[0;34m\u001b[0m\u001b[0m\n\u001b[1;32m      2\u001b[0m \u001b[0mL\u001b[0m \u001b[0;34m=\u001b[0m \u001b[0;34m[\u001b[0m\u001b[0;36m1\u001b[0m\u001b[0;34m,\u001b[0m\u001b[0;36m2\u001b[0m\u001b[0;34m,\u001b[0m\u001b[0;36m3\u001b[0m\u001b[0;34m,\u001b[0m\u001b[0;36m4\u001b[0m\u001b[0;34m,\u001b[0m\u001b[0;36m5\u001b[0m\u001b[0;34m]\u001b[0m\u001b[0;34m\u001b[0m\u001b[0;34m\u001b[0m\u001b[0m\n\u001b[0;32m----> 3\u001b[0;31m \u001b[0mL\u001b[0m\u001b[0;34m[\u001b[0m\u001b[0;36m1\u001b[0m\u001b[0;34m:\u001b[0m\u001b[0;36m3\u001b[0m\u001b[0;34m]\u001b[0m \u001b[0;34m=\u001b[0m \u001b[0;36m100\u001b[0m\u001b[0;34m\u001b[0m\u001b[0;34m\u001b[0m\u001b[0m\n\u001b[0m\u001b[1;32m      4\u001b[0m \u001b[0mprint\u001b[0m\u001b[0;34m(\u001b[0m\u001b[0mL\u001b[0m\u001b[0;34m)\u001b[0m\u001b[0;34m\u001b[0m\u001b[0;34m\u001b[0m\u001b[0m\n",
      "\u001b[0;31mTypeError\u001b[0m: can only assign an iterable"
     ]
    }
   ],
   "source": [
    "# 3\n",
    "L = [1,2,3,4,5]\n",
    "L[1:3] = 100\n",
    "print(L)"
   ]
  },
  {
   "cell_type": "markdown",
   "id": "2f42655b",
   "metadata": {},
   "source": [
    "- 슬라이싱 연산으로 [2,3]인 원소 2개를 잘라낸 L리스트를 정수값인 100으로 두 가지의 원소를 치환하려해 오류가 발생한다. "
   ]
  },
  {
   "cell_type": "code",
   "execution_count": 4,
   "id": "eeb13205",
   "metadata": {},
   "outputs": [
    {
     "ename": "TypeError",
     "evalue": "can only assign an iterable",
     "output_type": "error",
     "traceback": [
      "\u001b[0;31m---------------------------------------------------------------------------\u001b[0m",
      "\u001b[0;31mTypeError\u001b[0m                                 Traceback (most recent call last)",
      "\u001b[0;32m<ipython-input-4-a2be40eae444>\u001b[0m in \u001b[0;36m<module>\u001b[0;34m\u001b[0m\n\u001b[1;32m      1\u001b[0m \u001b[0;31m# 4\u001b[0m\u001b[0;34m\u001b[0m\u001b[0;34m\u001b[0m\u001b[0;34m\u001b[0m\u001b[0m\n\u001b[1;32m      2\u001b[0m \u001b[0mL\u001b[0m \u001b[0;34m=\u001b[0m \u001b[0;34m[\u001b[0m\u001b[0;36m1\u001b[0m\u001b[0;34m,\u001b[0m\u001b[0;36m2\u001b[0m\u001b[0;34m,\u001b[0m\u001b[0;36m3\u001b[0m\u001b[0;34m,\u001b[0m\u001b[0;36m4\u001b[0m\u001b[0;34m,\u001b[0m\u001b[0;36m5\u001b[0m\u001b[0;34m]\u001b[0m\u001b[0;34m\u001b[0m\u001b[0;34m\u001b[0m\u001b[0m\n\u001b[0;32m----> 3\u001b[0;31m \u001b[0mL\u001b[0m\u001b[0;34m[\u001b[0m\u001b[0;36m1\u001b[0m\u001b[0;34m:\u001b[0m\u001b[0;36m3\u001b[0m\u001b[0;34m]\u001b[0m \u001b[0;34m=\u001b[0m \u001b[0;34m(\u001b[0m\u001b[0;36m100\u001b[0m\u001b[0;34m)\u001b[0m\u001b[0;34m\u001b[0m\u001b[0;34m\u001b[0m\u001b[0m\n\u001b[0m\u001b[1;32m      4\u001b[0m \u001b[0mprint\u001b[0m\u001b[0;34m(\u001b[0m\u001b[0mL\u001b[0m\u001b[0;34m)\u001b[0m\u001b[0;34m\u001b[0m\u001b[0;34m\u001b[0m\u001b[0m\n",
      "\u001b[0;31mTypeError\u001b[0m: can only assign an iterable"
     ]
    }
   ],
   "source": [
    "# 4\n",
    "L = [1,2,3,4,5]\n",
    "L[1:3] = (100)\n",
    "print(L)"
   ]
  },
  {
   "cell_type": "markdown",
   "id": "8aafda38",
   "metadata": {},
   "source": [
    "- (100)은 튜플이 아닌 정수값이므로 100으로 치환할 경우에 오류가 발생한다."
   ]
  },
  {
   "cell_type": "code",
   "execution_count": 5,
   "id": "85757dd7",
   "metadata": {},
   "outputs": [
    {
     "name": "stdout",
     "output_type": "stream",
     "text": [
      "[1, 100, 101, 102, 4, 5]\n"
     ]
    }
   ],
   "source": [
    "# 5\n",
    "L = [1,2,3,4,5]\n",
    "L[1:3] = (100, 101, 102)\n",
    "print(L)"
   ]
  },
  {
   "cell_type": "markdown",
   "id": "d6adc282",
   "metadata": {},
   "source": [
    "- L리스트의 원소 [2,3]을 (100, 101, 102)로 치환된 리스트가 출력된다."
   ]
  },
  {
   "cell_type": "code",
   "execution_count": 6,
   "id": "2542ecd1",
   "metadata": {},
   "outputs": [
    {
     "name": "stdout",
     "output_type": "stream",
     "text": [
      "[1, 100, 101, 102, 4, 5]\n"
     ]
    }
   ],
   "source": [
    "# 6\n",
    "L = [1,2,3,4,5]\n",
    "L[1:3] = [100, 101, 102]\n",
    "print(L)"
   ]
  },
  {
   "cell_type": "markdown",
   "id": "f7a85081",
   "metadata": {},
   "source": [
    "- [2,3]을 [100, 101, 102]로 치환된 리스트가 출력된다."
   ]
  },
  {
   "cell_type": "code",
   "execution_count": 7,
   "id": "1b7b8281",
   "metadata": {},
   "outputs": [
    {
     "name": "stdout",
     "output_type": "stream",
     "text": [
      "[1, (100, 101, 102), 4, 5]\n"
     ]
    }
   ],
   "source": [
    "# 7 \n",
    "L = [1,2,3,4,5]\n",
    "L[1:3] = [(100, 101, 102)]\n",
    "print(L)"
   ]
  },
  {
   "cell_type": "markdown",
   "id": "a00dfcd0",
   "metadata": {},
   "source": [
    "- [(100, 101, 102)]는 튜플을 의미한다. 따라서 [2,3]이 (100, 101, 102)로 치환한 리스트가 출력된다."
   ]
  },
  {
   "cell_type": "code",
   "execution_count": 8,
   "id": "db34c87e",
   "metadata": {},
   "outputs": [
    {
     "name": "stdout",
     "output_type": "stream",
     "text": [
      "[1, [100, 101, 102], 4, 5]\n"
     ]
    }
   ],
   "source": [
    "# 8\n",
    "L = [1,2,3,4,5]\n",
    "L[1:3] = [[100, 101, 102]]\n",
    "print(L)"
   ]
  },
  {
   "cell_type": "markdown",
   "id": "8783f2c1",
   "metadata": {},
   "source": [
    "- [[100, 101, 102]]는 리스트를 원소로 가지는 리스트를 의미한다. 따라서 [2,3]을 [100, 101, 102]로 치환된 리스트가 출력된다."
   ]
  },
  {
   "cell_type": "markdown",
   "id": "9ad17042",
   "metadata": {},
   "source": [
    "#### [문제 2]\n",
    "2. 문자열 S = 'Hello World and Python'에 대해 다음 요구사항에 대한 Python 코드를 제시하시오.\n",
    "  - 1) 단어의 순서가 역순으로 되어진 문자열 ('Python and World Hello')을 만들고\n",
    "  - 2) 1)의 결과 문자열에 대해 메소드 split과 join을 이용하여 공백을 모두 없엔 문자열 'PythonandWorldHello'을 만드시오."
   ]
  },
  {
   "cell_type": "code",
   "execution_count": 9,
   "id": "b5232549",
   "metadata": {},
   "outputs": [
    {
     "name": "stdout",
     "output_type": "stream",
     "text": [
      "Python and World Hello\n",
      "PythonandWorldHello\n"
     ]
    }
   ],
   "source": [
    "# 1\n",
    "s = 'Hello World and Python'\n",
    "s = s[::-1] # 문자열 거꾸로 뒤집기\n",
    "s = s.split() # 공백 단위로 분리\n",
    "l = [i[::-1] for i in s] # 리스트로 반환\n",
    "s = ' '.join(l) # 공백 문자로 연결\n",
    "print(s)\n",
    "\n",
    "# 2\n",
    "s = s.split(\" \") # 공백 단위로 분리\n",
    "s = \"\".join(s) # ''문자 단위로 연결\n",
    "print(s)"
   ]
  },
  {
   "cell_type": "markdown",
   "id": "cce707fc",
   "metadata": {},
   "source": [
    "#### [문제 3]\n",
    "3. 다음 코드를 보고 물음에 답하시오.\n",
    "        a = [1, 2, 3]\n",
    "        b = a * 3\n",
    "        c = [a] * 3\n",
    "        print(b)\n",
    "        print(c)"
   ]
  },
  {
   "cell_type": "code",
   "execution_count": 10,
   "id": "1ab7cb81",
   "metadata": {},
   "outputs": [
    {
     "name": "stdout",
     "output_type": "stream",
     "text": [
      "[1, 2, 3, 1, 2, 3, 1, 2, 3]\n",
      "[[1, 2, 3], [1, 2, 3], [1, 2, 3]]\n",
      "[1, 2, 3, 1, 2, 3, 1, 2, 3]\n",
      "[[0, 2, 3], [0, 2, 3], [0, 2, 3]]\n"
     ]
    }
   ],
   "source": [
    "# 1) 위 코드를 수행한 이후 다음 코드를 수행한 후 b와 c의 내용을 확인하시오.\n",
    "a = [1, 2, 3]\n",
    "b = a * 3\n",
    "c = [a] * 3\n",
    "print(b)\n",
    "print(c)\n",
    "\n",
    "a[0] = 0\n",
    "print(b)\n",
    "print(c)"
   ]
  },
  {
   "cell_type": "markdown",
   "id": "ba90807d",
   "metadata": {},
   "source": [
    "2) b와 c 객체의 차이는 무엇인가?\n",
    "   - b객체는 a리스트가 3개 연결된 새로운 리스트의 객체이고, c객체는 a리스크를 하나의 원소를 갖는 리스트를 3개 연결한 새로운 리스트의 객체이다. a의 0번째 원소를 0으로 치환해 b와 c를 출력해보면 c의 0번째 객체만 변한 것을 볼 수 있다. 이것은 c리스트는 새로운 리스트이지만 c의 원소는 a리스트를 가리키는 레퍼런스이기 때문에 c의 각각의 원소와 a는 동일한 리스트를 가리키는 레퍼런스임을 알 수 있다. 따라서 a의 0번째 값이 0으로 치환하면 c의 각각 원소의 0번째 값이 변경된다."
   ]
  },
  {
   "cell_type": "markdown",
   "id": "255bb87d",
   "metadata": {},
   "source": [
    "#### [문제 4]\n",
    "4. 다음 문자열을 ':'을 기준으로 분리하여 리스트로 만들고 각 문자열의 좌우 공백을 제거하시오 (즉, 문자열 S에서 l을 만들어라)\n",
    "        s = '  first star   :   second star   :    third star  '\n",
    "        l = ['first star', 'second star', 'third star']\n",
    "      - 1) for ~ in 문을 이용한 코드를 작성하시오.\n",
    "      - 2) 리스트 내포(list comprehension)를 이용한 코드를 작성하시오."
   ]
  },
  {
   "cell_type": "code",
   "execution_count": 11,
   "id": "f2b6edf5",
   "metadata": {},
   "outputs": [
    {
     "name": "stdout",
     "output_type": "stream",
     "text": [
      "['first star', 'second star', 'third star']\n"
     ]
    }
   ],
   "source": [
    "# 1) for ~ in 문을 이용한 코드를 작성하시오.\n",
    "s = '  first star   :   second star   :    third star  '\n",
    "s = s.split(\":\") # ':' 단위로 분리\n",
    "l = [] # 새로운 리스트 생성\n",
    "for i in s: \n",
    "    l.append(i.strip()) # 좌우 공백 제거해 새로운 리스트에 저장\n",
    "print(l)"
   ]
  },
  {
   "cell_type": "code",
   "execution_count": 12,
   "id": "c31ffc11",
   "metadata": {},
   "outputs": [
    {
     "name": "stdout",
     "output_type": "stream",
     "text": [
      "['first star', 'second star', 'third star']\n"
     ]
    }
   ],
   "source": [
    "# 2) 리스트 내포(list comprehension)를 이용한 코드를 작성하시오.\n",
    "s = '  first star   :   second star   :    third star  '\n",
    "s = s.split(\":\") # ':' 단위로 분리\n",
    "s = [i.strip() for i in s]\n",
    "print(s)"
   ]
  },
  {
   "cell_type": "markdown",
   "id": "c43be264",
   "metadata": {},
   "source": [
    "- 다음과 같이 0보다 큰 정수 리스트 변수 list를 인자로 받는 함수 addall(list)와 addallodd(list)를 for ~ in 리터널과 리스트 내포 방식으로 각각 제시하시오.\n",
    "  - 1) addall(list) 함수 (리스트 내의 모든 정수를 더하는 함수로서 해답으로는 for ~ in 리터럴과 리스트 내포 방식으로 각각 제시하시오.)\n",
    "       \n",
    "        \n",
    "        >>> addall([1])\n",
    "            1\n",
    "        >>> addall([1, 2, 3, 4, 5, 6, 7, 8, 9])\n",
    "            45\n",
    "  - 2) addallodd(list) 함수 (리스트내의 모든 홀수를 더하는 함수로서 해답으로는 for ~ in 리터럴과 리스트 내포 방식으로 각각 제시하시오.)\n",
    "        \n",
    "        >>> addallodd([1])\n",
    "            1\n",
    "        >>> addallodd([1, 2, 3, 4, 5, 6, 7, 8, 9])\n",
    "            \n",
    "            25"
   ]
  },
  {
   "cell_type": "code",
   "execution_count": 13,
   "id": "e1ced507",
   "metadata": {},
   "outputs": [
    {
     "name": "stdout",
     "output_type": "stream",
     "text": [
      "1\n",
      "45\n"
     ]
    }
   ],
   "source": [
    "# 1-1\n",
    "def addall(l):\n",
    "    sum = 0\n",
    "    for i in l :\n",
    "        sum += i\n",
    "    return sum\n",
    "\n",
    "print(addall([1]))\n",
    "print(addall([1,2,3,4,5,6,7,8,9]))"
   ]
  },
  {
   "cell_type": "code",
   "execution_count": 14,
   "id": "9091b170",
   "metadata": {},
   "outputs": [
    {
     "name": "stdout",
     "output_type": "stream",
     "text": [
      "1\n",
      "45\n"
     ]
    }
   ],
   "source": [
    "# 1-2\n",
    "def addall(l):\n",
    "    return sum([i for i in l])\n",
    "\n",
    "print(addall([1]))\n",
    "print(addall([1,2,3,4,5,6,7,8,9]))"
   ]
  },
  {
   "cell_type": "code",
   "execution_count": 15,
   "id": "fae47a35",
   "metadata": {},
   "outputs": [
    {
     "name": "stdout",
     "output_type": "stream",
     "text": [
      "0\n",
      "18\n"
     ]
    }
   ],
   "source": [
    "# 2-1\n",
    "def addallodd(l):\n",
    "    sum = 0\n",
    "    for i in l:\n",
    "        if i % 3 == 0: sum += i\n",
    "    return sum\n",
    "\n",
    "print(addallodd([1]))\n",
    "print(addallodd([1,2,3,4,5,6,7,8,9]))"
   ]
  },
  {
   "cell_type": "code",
   "execution_count": 16,
   "id": "b8d42b38",
   "metadata": {},
   "outputs": [
    {
     "name": "stdout",
     "output_type": "stream",
     "text": [
      "0\n",
      "18\n"
     ]
    }
   ],
   "source": [
    "# 2-2\n",
    "def addallodd(l):\n",
    "    return sum([i for i in l if i%3==0])\n",
    "\n",
    "print(addallodd([1]))\n",
    "print(addallodd([1,2,3,4,5,6,7,8,9]))"
   ]
  },
  {
   "cell_type": "markdown",
   "id": "47189703",
   "metadata": {},
   "source": [
    "#### [문제 5]\n",
    "5. 다음 코드를 보고 물음에 답하시오.\n",
    "            L1 = [1, 2, 3]\n",
    "            L2 = [4, 5, 6]\n",
    "            d = {'low':L1, 'high':L2}\n",
    "            e = d\n",
    "            f = d.copy()\n",
    "            print(d)\n",
    "            print(e)\n",
    "            print(f)\n",
    "            print()\n",
    "            d['low'] = [10, 20, 30]\n",
    "            d['high'][1] = 500\n",
    "            print(d)\n",
    "            print(e)\n",
    "            print(f)\n",
    "            \n",
    "   - 1) 위 코드의 수행 결과 d와 e는 항상 같은 결과를 출력한다. 그 이유는 무엇인가?\n",
    "   - 2) 위 코드의 수행 결과 마지막 f의 내용은 다음과 같다. 이 때 'high' 키의 값 내용 중 500이 출력된 이유와 'low' 키의 값 내용 중 [1, 2, 3]이 출력된 이유를 설명하시오 ([hint]: shallow copy 관점에서 설명하시오.)\n",
    "              {'high': [4, 500, 6], 'low': [1, 2, 3]}"
   ]
  },
  {
   "cell_type": "code",
   "execution_count": 17,
   "id": "19fe4501",
   "metadata": {},
   "outputs": [
    {
     "name": "stdout",
     "output_type": "stream",
     "text": [
      "{'low': [1, 2, 3], 'high': [4, 5, 6]}\n",
      "{'low': [1, 2, 3], 'high': [4, 5, 6]}\n",
      "{'low': [1, 2, 3], 'high': [4, 5, 6]}\n",
      "\n",
      "{'low': [10, 20, 30], 'high': [4, 500, 6]}\n",
      "{'low': [10, 20, 30], 'high': [4, 500, 6]}\n",
      "{'low': [1, 2, 3], 'high': [4, 500, 6]}\n"
     ]
    }
   ],
   "source": [
    "# 1) 위 코드의 수행 결과 d와 e는 항상 같은 결과를 출력한다. 그 이유는 무엇인가?\n",
    "L1 = [1, 2, 3]\n",
    "L2 = [4, 5, 6]\n",
    "d = {'low':L1, 'high':L2}\n",
    "e = d\n",
    "f = d.copy()\n",
    "print(d)\n",
    "print(e)\n",
    "print(f)\n",
    "print()\n",
    "d['low'] = [10, 20, 30]\n",
    "d['high'][1] = 500\n",
    "print(d)\n",
    "print(e)\n",
    "print(f)"
   ]
  },
  {
   "cell_type": "markdown",
   "id": "684ed722",
   "metadata": {},
   "source": [
    "- d는 사전의 레퍼런스를 e는 d객체의 레퍼런스를 가리키므로, d와 e는 같은 레퍼런스를 가리킨다. 따라서 둘은 같으 사전을 공유하므로 d가 수정되면 e 또한 수정되어 출력된다."
   ]
  },
  {
   "cell_type": "markdown",
   "id": "e474dedb",
   "metadata": {},
   "source": [
    "2) 위 코드의 수행 결과 마지막 f의 내용은 다음과 같다. 이 때 'high' 키의 값 내용 중 500이 출력된 이유와 'low' 키의 값 내용 중 [1, 2, 3]이 출력된 이유를 설명하시오 ([hint]: shallow copy 관점에서 설명하시오.)\n",
    "\n",
    "- d와 f는 동일한 키와 값을 가진다. f는 d와 같은 값은 가지는 객체를 새로 생성하고, 이를 f가 가리킨다. 따라서 생성된 새로운 객체는 {'low':L1,'high':L2}이므로 L1이 가리키는 값은 바뀐 것이 없으므로 [1, 2, 3]이 그대로 출력되고, L2의 1번째 원소가 500으로 치환되었으므로 [4, 500, 6]이 출력된다."
   ]
  },
  {
   "cell_type": "markdown",
   "id": "70da17ba",
   "metadata": {},
   "source": [
    "#### [문제 6]\n",
    "6. 사전 d = {'one':1, 'two':2, 'three':3, 'four':4, 'five':5}가 주어졌을 때 다음 요구사항에 맞는 코드를 제시하시오.\n",
    "   - [참고]: d.keys(), d.values()를 통해 리스트를 얻어낸 후 리스트가 지니고 있는    sort(cmp=None, key=None, reverse=False)함수를 활용하시오.\n",
    "   - 1) 키의 알파벳 오름차순 순서대로 튜플 (키, 값)을 차례대로 출력하시오.\n",
    "   - 2) 키의 알파벳 내림차순 순서대로 튜플 (키, 값)을 차례대로 출력하시오.\n",
    "   - 3) 값의 오름차순 순서대로 튜플 (키, 값)을 차례대로 출력하시오.\n",
    "   - 4) 값의 내림차순 순서대로 튜플 (키, 값)을 차례대로 출력하시오."
   ]
  },
  {
   "cell_type": "code",
   "execution_count": 18,
   "id": "8867342d",
   "metadata": {},
   "outputs": [
    {
     "name": "stdout",
     "output_type": "stream",
     "text": [
      "(('five', 5), ('four', 4), ('one', 1), ('three', 3), ('two', 2))\n"
     ]
    }
   ],
   "source": [
    "# 1) 키의 알파벳 오름차순 순서대로 튜플 (키, 값)을 차례대로 출력하시오.\n",
    "d = {'one':1, 'two':2, 'three':3, 'four':4, 'five':5}\n",
    "keys = list(d.keys()) # key 값 리스트로 변환\n",
    "keys.sort() # 정렬\n",
    "items = ()\n",
    "for i in keys:\n",
    "    items += ((i, d[i]),)\n",
    "print(items)"
   ]
  },
  {
   "cell_type": "code",
   "execution_count": 19,
   "id": "cca2fa53",
   "metadata": {},
   "outputs": [
    {
     "name": "stdout",
     "output_type": "stream",
     "text": [
      "(('two', 2), ('three', 3), ('one', 1), ('four', 4), ('five', 5))\n"
     ]
    }
   ],
   "source": [
    "# 2) 키의 알파벳 내림차순 순서대로 튜플 (키, 값)을 차례대로 출력하시오.\n",
    "d = {'one':1, 'two':2, 'three':3, 'four':4, 'five':5}\n",
    "keys = list(d.keys()) # key 값 리스트로 변환\n",
    "keys.sort(reverse=True) # 내림차순 정렬\n",
    "items = ()\n",
    "for i in keys:\n",
    "    items += ((i, d[i]),)\n",
    "print(items)"
   ]
  },
  {
   "cell_type": "code",
   "execution_count": 20,
   "id": "1fa1c104",
   "metadata": {},
   "outputs": [
    {
     "name": "stdout",
     "output_type": "stream",
     "text": [
      "(('one', 1), ('two', 2), ('three', 3), ('four', 4), ('five', 5))\n"
     ]
    }
   ],
   "source": [
    "# 3) 값의 오름차순 순서대로 튜플 (키, 값)을 차례대로 출력하시오.\n",
    "d = {'one':1, 'two':2, 'three':3, 'four':4, 'five':5}\n",
    "values = list(d.values()) # vlaue 값 리스트로 변환\n",
    "keys = list(d.keys()) # key 값 리스트로 변환\n",
    "values.sort() # 정렬\n",
    "items = ()\n",
    "for i in values:\n",
    "    for j in keys:\n",
    "        if i==d[j]: # 키와 값이 일치하는 경우\n",
    "            items += ((j, d[j]),)\n",
    "print(items)"
   ]
  },
  {
   "cell_type": "code",
   "execution_count": 21,
   "id": "9c091995",
   "metadata": {},
   "outputs": [
    {
     "name": "stdout",
     "output_type": "stream",
     "text": [
      "(('five', 5), ('four', 4), ('three', 3), ('two', 2), ('one', 1))\n"
     ]
    }
   ],
   "source": [
    "# 4) 값의 내림차순 순서대로 튜플 (키, 값)을 차례대로 출력하시오.\n",
    "d = {'one':1, 'two':2, 'three':3, 'four':4, 'five':5}\n",
    "values = list(d.values()) # vlaue 값 리스트로 변환\n",
    "keys = list(d.keys()) # key 값 리스트로 변환\n",
    "values.sort(reverse=True) # 정렬\n",
    "items = ()\n",
    "for i in values:\n",
    "    for j in keys:\n",
    "        if i==d[j]: # 키와 값이 일치하는 경우\n",
    "            items += ((j, d[j]),)\n",
    "print(items)"
   ]
  },
  {
   "cell_type": "markdown",
   "id": "c7bc2ef0",
   "metadata": {},
   "source": [
    "#### [문제 7]\n",
    "7. 다음 문제를 정확히 읽고 적합한 코딩을 제시하시오.\n",
    "   - length(X)를 다음과 같이 정의한다 : 10진수로 표현된 X의 자릿수\n",
    "   - Strange라는 숫자를 아래과 같이 정의한다.\n",
    "     - 음이 아닌 정수 중 자릿수가 1인 모든 숫자는 Strange이다.\n",
    "     - length(X) > 1 인 숫자 X 는 다음 2가지를 만족하면 Strange이다.\n",
    "       - X는 length(X)로 정확히 나누어 떨어진다.\n",
    "       - X / length(X) 가 strnage이다.\n",
    "\n",
    "   - 이 문제에서 숫자 하나가 주어질 때, 이 숫자가 Strange인지 판단하는 함수 isStrange(num)을 작성하시오.\n",
    "   - isStrange(num) 함수가 재귀적인 함수가 되도록 작성해 보세요.\n",
    "   \n",
    "   \n",
    "   - [예시]\n",
    "          1. num = 0                      =>    True\n",
    "          2. num = 56                     =>    True\n",
    "          3. num = 100                    =>    False\n",
    "          4. num = 7882602506492313600    =>    True\n",
    "          5. num = 6012302549522098651    =>    False"
   ]
  },
  {
   "cell_type": "code",
   "execution_count": 22,
   "id": "17320128",
   "metadata": {},
   "outputs": [
    {
     "name": "stdout",
     "output_type": "stream",
     "text": [
      "True\n",
      "True\n",
      "False\n",
      "True\n",
      "False\n"
     ]
    }
   ],
   "source": [
    "def isStrange(num):\n",
    "    if num < 0 : #음인 정수는 False 반환\n",
    "        return False\n",
    "    \n",
    "    else :\n",
    "        num_len = len(str(num))\n",
    "        if num_len == 1: #자릿수가 1일 경우 True (0도 포함)\n",
    "            return True\n",
    "        \n",
    "        elif num_len > 1:            \n",
    "            if num%num_len == 0 and isStrange(int(num/num_len)):\n",
    "                return True\n",
    "            else :\n",
    "                return False\n",
    "\n",
    "num1 = 0\n",
    "print(isStrange(num1))\n",
    "num2 = 56\n",
    "print(isStrange(num2))\n",
    "num3 = 100\n",
    "print(isStrange(num3))\n",
    "num4 = 7882602506492313600 \n",
    "print(isStrange(num4))\n",
    "num5 = 6012302549522098651\n",
    "print(isStrange(num5))"
   ]
  },
  {
   "cell_type": "markdown",
   "id": "8c2dffd8",
   "metadata": {},
   "source": [
    "#### [문제 8]\n",
    "8. 다음 문제를 정확히 읽고 적합한 코딩을 제시하시오.\n",
    "   - 1번 그룹, 2번 그룹, ... n번 그룹으로 번호가 매겨진 총 n개의 그룹이 존재하고, ith 그룹에는 임의의 팀원 수 ai 명이 있다.\n",
    "     하나의 버스 정류장이 있고, 버스는 오직 한 대만 운영한다. 버스는 버스 정류장에 도착하고 모든 그룹은 버스를 통해 여행하길 원한다.\n",
    "     하지만, 같은 그룹에 속한 팀원들은 분리되기를 원치 않는다. 그래서 그룹의 모든 팀원이 탈 수 있을 때 에만 그 그룹은 버스에 탑승한다.\n",
    "     또한, 이들은 그룹의 번호순으로 여행을 하길 원한다. 예를 들어, 3번 그룹은 1번 그룹과 2번 그룹이 여행을 한 뒤에 버스를 탈 수 있거나, 1번 그룹과 2번 그룹이 이미 버스에 탑승한 상태에 있을 때 동시에 버스를 탈 수 있다.\n",
    "     마지막으로, 버스는 빈 좌석이 없을 때 에만 여행을 떠난다.\n",
    "\n",
    "   - 이 문제에서 각 그룹의 팀원 수가 리스트로 주어질 때, 가능한 모든 버스의 사이즈 x(x명의 사람들이 동시에 탈 수 있음)를 반환하는 함수 solve(a) 를 작성하시오.\n",
    "   - [주의] 반드시 계산 복잡도를 최대한 낮추세요. 아래 예시 3번을 실행했을 때 결과가 바로 나타날 수 있도록!!\n",
    "   \n",
    "   - [예시]\n",
    "        1. a = [1, 2, 1, 1, 1, 2, 1, 3]    =>    [3, 4, 6, 12]\n",
    "        2. a = [1, 1, 1, 1]                =>    [1, 2, 4]\n",
    "        3. a = [9999] * 10**5              =>    \n",
    "        [9999,19998,39996,49995,79992,99990,159984,199980,249975,319968\n",
    "        ,399960,499950,799920,999900,1249875,1599840,1999800,2499750,39\n",
    "        99600,4999500,6249375,7999200,9999000,12498750,19998000,2499750\n",
    "        0,31246875,39996000,49995000,62493750,99990000,124987500,199980\n",
    "        000,249975000,499950000,999900000]"
   ]
  },
  {
   "cell_type": "code",
   "execution_count": 23,
   "id": "0f9a3e67",
   "metadata": {},
   "outputs": [],
   "source": [
    "def solve(a):\n",
    "    n = 0 #리스트 각 요소를 더한 값\n",
    "    check = 0 # 각 그룹의 팀원들을 버스에 잘 탑승할 수 있는지 확인\n",
    "    max_num = 0\n",
    "    divisor = [] # n의 약수(단, max_num보다 커야함)\n",
    "    size = []\n",
    "   \n",
    "    # 1\n",
    "    for i in a:\n",
    "        if(i > max_num): \n",
    "            max_num = i\n",
    "    # 2        \n",
    "    for i in a:\n",
    "        n += i \n",
    "        \n",
    "    # 3 : n의 약수\n",
    "    for i in range(max_num, n+1):\n",
    "        if n % i == 0:\n",
    "            divisor.append(i)\n",
    "    \n",
    "    # 4 :약수로 리스트의 요소를 순서대로 엮을 수 있으면 해당하는 약수 반환\n",
    "    for i in divisor:\n",
    "        for j in range(len(a)):\n",
    "            check += a[j] \n",
    "            if(check == i): \n",
    "                check = 0\n",
    "                if(j == len(a)-1):\n",
    "                    size.append(i)\n",
    "            elif check > i:\n",
    "                check = 0\n",
    "                break\n",
    "        \n",
    "    return size"
   ]
  },
  {
   "cell_type": "code",
   "execution_count": 24,
   "id": "12591c25",
   "metadata": {},
   "outputs": [
    {
     "name": "stdout",
     "output_type": "stream",
     "text": [
      "[3, 4, 6, 12]\n"
     ]
    }
   ],
   "source": [
    "a = [1, 2, 1, 1, 1, 2, 1, 3] \n",
    "print(solve(a))"
   ]
  },
  {
   "cell_type": "code",
   "execution_count": 25,
   "id": "d51f66af",
   "metadata": {},
   "outputs": [
    {
     "name": "stdout",
     "output_type": "stream",
     "text": [
      "[1, 2, 4]\n"
     ]
    }
   ],
   "source": [
    "a = [1, 1, 1, 1]\n",
    "print(solve(a))"
   ]
  },
  {
   "cell_type": "code",
   "execution_count": 26,
   "id": "d04dda34",
   "metadata": {},
   "outputs": [
    {
     "name": "stdout",
     "output_type": "stream",
     "text": [
      "[9999, 19998, 39996, 49995, 79992, 99990, 159984, 199980, 249975, 319968, 399960, 499950, 799920, 999900, 1249875, 1599840, 1999800, 2499750, 3999600, 4999500, 6249375, 7999200, 9999000, 12498750, 19998000, 24997500, 31246875, 39996000, 49995000, 62493750, 99990000, 124987500, 199980000, 249975000, 499950000, 999900000]\n"
     ]
    }
   ],
   "source": [
    "a = [9999] * 10**5\n",
    "print(solve(a))"
   ]
  },
  {
   "cell_type": "markdown",
   "id": "005d6d64",
   "metadata": {},
   "source": [
    "1. a 리스트의 인덱스 중 가장 큰 값을 가지는 요소를 max_num에 저장\n",
    "2. a 리스트의 인덱스를 다 더한 값을 n에 저장\n",
    "3. n의 약수를 divisor 리스트에 저장\n",
    "4. check에 a 리스트 인덱스를 순서대로 저장한 뒤 cnt가 n의 약수와 같은 경우에 check를 다시 0으로 바꾸어준다. 그 인덱스 j가 (리스트 a-1)이 될 때까지 과정을 반복한다. 마지막까지 check가 i가 된다면 버스에 빈자리 없이 모든 그룹의 모든 사람이 버스에 탑승했다는 의미이므로 최종 반환 리스트인 size에 i를 추가해 반환한다. 만약 중간에서 한 번이라도 check가 i가 되지 않는다면 약수 리스트의 다음 요소로 옮겨가도록 했다."
   ]
  },
  {
   "cell_type": "markdown",
   "id": "06a3b709",
   "metadata": {},
   "source": [
    "### [Incremental Project 문제]\n",
    "1. 이전 Assignment 2의 마지막 문제는 웹 URL로 지정된 웹페이지를 문자열로 가져와 모든 HTML 태그를 제외한 순수 텍스트를 얻어내고 그 안에 존재하는 단어를 추출하고 단어들의 총 개수를 출력하는 프로그램을 작성하는 것이었다. 이번에는 그 마지막 숙제를 그대로 확장하여 웹 URL로 지정된 웹페이지 내 순수 텍스트 안에 존재하는 각 단어들에 대해 다음 요구사항 대로 출력하는 프로그램을 작성하시오.\n",
    "\n",
    "   - 요구사항 1. CSS와 Javascript 내용도 모두 제거하시오 (이전 숙제에서 이미 제외하였다면 본 요구사항 무시)\n",
    "\n",
    "     - 즉, 아래와 같은 코드는 <'style> 및 <'script> 태그 뿐만 아니라 그 안의 내용 전체를 모두 제거\n",
    "\n",
    "                    <style>\n",
    "                    h1 {\n",
    "                      color: blue;\n",
    "                    }\n",
    "                    </style>\n",
    "                    <script>\n",
    "                    int a = 10;\n",
    "                    ...\n",
    "                    </script>\n",
    "    \n",
    "    \n",
    "   - 요구사항 2. 순수 텍스트 안에 존재하는 단어들에 대해 string 모듈을 활용하여 모든 punctuation (구두문자)를 완벽히 제거하시오.\n",
    "     - 예: ['world!', ':', '+hello+', '~python$$$', '=', 'world'] ---> ['world', 'hello', 'python', 'world']\n",
    "     - 모든 punctuation을 확인하는 방법은 아래와 같다.\n",
    "                import string\n",
    "                print(string.punctuation)\n",
    "   - 요구사항 3. 만약 punctuation (구두문자)를 제거한 이후 공백으로 판명되는 단어들은 해당 단어 리스트에서 제거하시오.\n",
    "     - 예: ['컴퓨터공학부!', '---?', '%지향~', '...'] ---> ['컴퓨터공학부', '', '지향', ''] ---> ['컴퓨터공학부', '지향']\n",
    "\n",
    "   - 요구사항 3. 각 단어들의 출현빈도를 사전형태로 저장하여 출력하시오.\n",
    "     - 예: ['world', 'hello', 'python', 'world', '컴퓨터공학부', '지향'] ---> {'world': 2, 'hello': 1, 'python': 1, '컴퓨터공학부': 1, '지향': 1}\n",
    "\n",
    "   - 요구사항 4. 다음 5개의 사이트에 대한 단어 출현빈도 결과를 출력하시오.\n",
    "     - http://cse.koreatech.ac.kr\n",
    "     - https://www.koreatech.ac.kr\n",
    "     - http://www.naver.com\n",
    "     - http://www.daum.net\n",
    "     - http://www.nytimes.com"
   ]
  },
  {
   "cell_type": "code",
   "execution_count": 27,
   "id": "94dcd48b",
   "metadata": {},
   "outputs": [],
   "source": [
    "import requests\n",
    "import string\n",
    "\n",
    "req1 = requests.get('http://cse.koreatech.ac.kr')\n",
    "source1 = req1.text\n",
    "req2 = requests.get('https://www.koreatech.ac.kr')\n",
    "source2 = req2.text\n",
    "req3 = requests.get('http://www.naver.com')\n",
    "source3 = req3.text\n",
    "req4 = requests.get('http://www.nytimes.com')\n",
    "source4 = req4.text\n",
    "req5 = requests.get('http://www.daum.net')\n",
    "source5 = req5.text"
   ]
  },
  {
   "cell_type": "code",
   "execution_count": 28,
   "id": "6275a712",
   "metadata": {},
   "outputs": [
    {
     "name": "stdout",
     "output_type": "stream",
     "text": [
      "{'var': 1, 'i1': 1, 'function': 1, 'move': 1, 'locationhrefhttpscsekoreatechackr': 1, 'Page': 1, 'Redirection': 1, '사이트': 1, '폐쇄': 1, '안내': 1, '특성화': 1, '사업': 1, '종료로': 1, '인한': 1, 'itcswkoreatechackr': 1, '사이트가': 1, '폐쇄되었습니다': 1, '잠시후': 1, '컴퓨터공학부': 1, '홈페이지로': 1, '자동': 1, '연결': 1, '됩니다': 1, 'If': 1, 'you': 1, 'are': 1, 'not': 1, 'redirected': 1, 'automatically': 1, 'follow': 1, 'the': 1, 'link': 1, 'to': 1, 'csekoreatechackr': 1}\n",
      "None\n"
     ]
    }
   ],
   "source": [
    "import requests\n",
    "import string\n",
    "\n",
    "def countWords(src):\n",
    "    words = []\n",
    "    while((src.find(\"<\")+1) and (src.find(\">\")+1)):\n",
    "        i = src.find(\"<\")\n",
    "        j = src.find(\">\")\n",
    "        src = src.replace(src[i:j+len(\">\")],'') \n",
    "        \n",
    "    while(src.find(\"<script\")+1):\n",
    "        i = src.find(\"<script\")\n",
    "        j = src.find(\"</script>\")\n",
    "        src = src.replace(src[i:j+len(\"</script>\")],'')\n",
    "    \n",
    "    while(src.find(\"<style\")+1):\n",
    "        i = src.find(\"<style\")\n",
    "        j = src.find(\"</style>\")\n",
    "        src = src.replace(src[i:j+len(\"</style>\")],'')\n",
    "    \n",
    "      \n",
    "    # 특수 문자 제거\n",
    "    src = ''.join([i for i in src if i not in string.punctuation])\n",
    "    \n",
    "    words = src.split()\n",
    "    lst = {}\n",
    "    for i in words:\n",
    "        lst[i] = lst.get(i,0)+1\n",
    "    print(lst)\n",
    "    \n",
    "\n",
    "print(countWords(source1))\n",
    "# print(countWords(source2))\n",
    "# print(countWords(source3))\n",
    "# print(countWords(source4))\n",
    "# print(countWords(source5))"
   ]
  },
  {
   "cell_type": "markdown",
   "id": "e4e190c9",
   "metadata": {},
   "source": [
    "- while문과 find을 사용해 css 및 javascript 내용 제거\n",
    "- 구두 문자(특수 문자)는 punctuation을 사용해 제거"
   ]
  },
  {
   "cell_type": "markdown",
   "id": "6624e979",
   "metadata": {},
   "source": [
    "> <span style=\"color:gray\">느낀점</span>\n",
    "> - 과제가 점점 어려워지고 있는 반면에 얻어 가는 것도 많은 것 같습니다. 마지막 문제의 출력 결과를 보면 알 수 있듯이 None이 출력되게 하는 코드를 발견하지 못한 점과 그 이유를 끝내 알게 되지 못한 점이 아쉽습니다."
   ]
  }
 ],
 "metadata": {
  "kernelspec": {
   "display_name": "Python 3",
   "language": "python",
   "name": "python3"
  },
  "language_info": {
   "codemirror_mode": {
    "name": "ipython",
    "version": 3
   },
   "file_extension": ".py",
   "mimetype": "text/x-python",
   "name": "python",
   "nbconvert_exporter": "python",
   "pygments_lexer": "ipython3",
   "version": "3.8.8"
  }
 },
 "nbformat": 4,
 "nbformat_minor": 5
}
