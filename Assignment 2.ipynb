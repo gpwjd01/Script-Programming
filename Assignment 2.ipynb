{
 "cells": [
  {
   "cell_type": "markdown",
   "id": "1f479a26",
   "metadata": {},
   "source": [
    "# Assignment 2"
   ]
  },
  {
   "cell_type": "markdown",
   "id": "c24fc49f",
   "metadata": {},
   "source": [
    "## [일반 문제]"
   ]
  },
  {
   "cell_type": "markdown",
   "id": "f926410a",
   "metadata": {},
   "source": [
    "#### [문제 1]\n",
    "1. 다음 6 개의 Expression에 대해 Evaluation 결과 값을 출력하고, 해당 결과가 나온 이유에 대해 설명하시오."
   ]
  },
  {
   "cell_type": "markdown",
   "id": "6748c12e",
   "metadata": {},
   "source": [
    "- 연산은 왼쪽부터 시작한다.\n",
    "  1. 첫 번째 값이 true일 경우 \n",
    "     - and일 경우 : 앞뒤의 피연산자가 둘다 true인것을 확인해야하므로 뒤의 피연산자 출력\n",
    "     - or일 경우 : 앞뒤 중 하나의 피연산자가 true면 true로 판단할 수 있으므로 앞의 피연산자가 true면 뒤의 피연산자를 볼 필요가 없다. 따라서 앞의 피연산자 출력\n",
    "  2. 0을 제외한 정수는 true를 반환"
   ]
  },
  {
   "cell_type": "code",
   "execution_count": 1,
   "id": "cd9fee0d",
   "metadata": {
    "scrolled": true
   },
   "outputs": [
    {
     "data": {
      "text/plain": [
       "4"
      ]
     },
     "execution_count": 1,
     "metadata": {},
     "output_type": "execute_result"
    }
   ],
   "source": [
    "# 1\n",
    "1 and 2 and 3 and 4"
   ]
  },
  {
   "cell_type": "markdown",
   "id": "3d4260dc",
   "metadata": {},
   "source": [
    "- and는 뒤의 피연산자까지 확인해야하므로 맨 마지막 피연산자인 4가 출력된다."
   ]
  },
  {
   "cell_type": "code",
   "execution_count": 2,
   "id": "ffb46003",
   "metadata": {
    "scrolled": true
   },
   "outputs": [
    {
     "data": {
      "text/plain": [
       "1"
      ]
     },
     "execution_count": 2,
     "metadata": {},
     "output_type": "execute_result"
    }
   ],
   "source": [
    "# 2\n",
    "1 or 2 or 3 or 4"
   ]
  },
  {
   "cell_type": "markdown",
   "id": "ed9aa213",
   "metadata": {},
   "source": [
    "- or은 앞의 피연산자가 true면 뒤의 피연산자를 확인할 필요가 없으므로 1이 출력된다."
   ]
  },
  {
   "cell_type": "code",
   "execution_count": 3,
   "id": "3e12fdfc",
   "metadata": {
    "scrolled": true
   },
   "outputs": [
    {
     "data": {
      "text/plain": [
       "2"
      ]
     },
     "execution_count": 3,
     "metadata": {},
     "output_type": "execute_result"
    }
   ],
   "source": [
    "# 3\n",
    "1 and 2 or 3 and 4"
   ]
  },
  {
   "cell_type": "markdown",
   "id": "31afb09a",
   "metadata": {},
   "source": [
    "- 1 and 2에서 2를 반환한다. 그 다음으로 2 or 3에서 2가 true이므로 뒤의 피연산자를 확인할 필요가 없으므로 최종적으로는 2가 출력된다."
   ]
  },
  {
   "cell_type": "code",
   "execution_count": 4,
   "id": "4c30132a",
   "metadata": {},
   "outputs": [
    {
     "data": {
      "text/plain": [
       "2"
      ]
     },
     "execution_count": 4,
     "metadata": {},
     "output_type": "execute_result"
    }
   ],
   "source": [
    "# 4\n",
    "(1 and 2) or (3 and 4)"
   ]
  },
  {
   "cell_type": "markdown",
   "id": "a0921d19",
   "metadata": {},
   "source": [
    "- 괄호 안의 연산이 우선이므로 괄호 안부터 읽어들인다. \n",
    "  1 and 2에서는 2, 3 and 4에서는 4를 반환한다. 다음으로 2 or 3에서 2가 true이므로 뒤의 피연산자를 볼 필요가 없으므로 2가 출력된다."
   ]
  },
  {
   "cell_type": "code",
   "execution_count": 5,
   "id": "bb14d2b8",
   "metadata": {
    "scrolled": true
   },
   "outputs": [
    {
     "data": {
      "text/plain": [
       "1"
      ]
     },
     "execution_count": 5,
     "metadata": {},
     "output_type": "execute_result"
    }
   ],
   "source": [
    "# 5\n",
    "1 or 2 and 3 or 4"
   ]
  },
  {
   "cell_type": "markdown",
   "id": "3444b8d0",
   "metadata": {},
   "source": [
    "- 1 or 2에서 1이 true이므로 그 뒤로 오는 and 3 or 4를 볼 필요가 없다. 따라서 1이 출력된다."
   ]
  },
  {
   "cell_type": "code",
   "execution_count": 6,
   "id": "52c511de",
   "metadata": {},
   "outputs": [
    {
     "data": {
      "text/plain": [
       "3"
      ]
     },
     "execution_count": 6,
     "metadata": {},
     "output_type": "execute_result"
    }
   ],
   "source": [
    "# 6\n",
    "(1 or 2) and (3 or 4)"
   ]
  },
  {
   "cell_type": "markdown",
   "id": "e718aae3",
   "metadata": {},
   "source": [
    "- 1 or 2에서는 1, 3 or 4에서는 3을 반환한다. 그 후로는 1 and 3을 연산한다.\n",
    "  and 연산자이므로 뒤의 피연산자까지 확인해야므로 3이 출력된다."
   ]
  },
  {
   "cell_type": "markdown",
   "id": "db7c2559",
   "metadata": {},
   "source": [
    "#### [문제 2]\n",
    "2. 경로에 해당하는 문자열 1개를 입력 받아 그 안에 디렉토리 경로명과 파일명을 분리하여 리스트로 반환하는 함수 div_path(s)를 작성하시오.\n",
    "   - 인자로 전달하는 문자열은 경로만 들어간다고 가정한다.\n",
    "   - 각 디렉토리와 파일을 구분하는 문자는 '/'로 가정한다.\n",
    "   - 반환하는 리스트의 첫번째 원소는 디렉토리이고 두번째 원소는 파일명이다.\n",
    "   - 다음과 같은 실행 및 출력 결과가 도출되어야 한다.\n",
    "     - div_path('/usr/local/bin/python')\n",
    "       - ['/usr/local/bin', 'python']\n",
    "     - div_path('/home/chulsoo/test.txt')\n",
    "       - ['/home/chulsoo', 'test.txt']\n",
    "   - [참고] 리스트(l) 내에 새로운 정수값 (예를 들어 10)을 넣는 방법은 l.append(10) 이다."
   ]
  },
  {
   "cell_type": "code",
   "execution_count": 7,
   "id": "b7198761",
   "metadata": {},
   "outputs": [
    {
     "name": "stdout",
     "output_type": "stream",
     "text": [
      "/usr/local/bin/python\n",
      "['/usr/local/bin', 'python']\n"
     ]
    }
   ],
   "source": [
    "def dev_path(s):\n",
    "    list = s.split('/')\n",
    "    result = []\n",
    "    result.append('/'.join(list[:-1]))\n",
    "    result.append(list[-1])\n",
    "    return result\n",
    "\n",
    "s = input()\n",
    "print(dev_path(s))"
   ]
  },
  {
   "cell_type": "code",
   "execution_count": 8,
   "id": "dc64206c",
   "metadata": {},
   "outputs": [
    {
     "name": "stdout",
     "output_type": "stream",
     "text": [
      "['/home/chulsoo', 'test.txt']\n"
     ]
    }
   ],
   "source": [
    "s = \"/home/chulsoo/test.txt\"\n",
    "print(dev_path(s))"
   ]
  },
  {
   "cell_type": "markdown",
   "id": "668d8006",
   "metadata": {},
   "source": [
    "- '/'를 기준으로 split 했다. # ['', 'user', 'local', 'bin', 'python']\n",
    "- 위의 리스트에서 맨 마지막 요소를 가져오고, 그 앞의 요소들을 리스트로 원상복귀하기 위해 join을 사용했다. 리스트가 문자열로 변환하는 과정에서 요소 사이사이에 '/'가 삽입된다. \n",
    "- result 리스트 변수를 만들어 append를 이용해 디렉토리 경로명과 파일명을 result에 넣은 뒤 출력하면 위에서 출력된 결과와 같이 출력된다.\n"
   ]
  },
  {
   "cell_type": "markdown",
   "id": "d8352675",
   "metadata": {},
   "source": [
    "#### [문제 3]"
   ]
  },
  {
   "cell_type": "markdown",
   "id": "ebd7cf35",
   "metadata": {},
   "source": [
    "3. 두 개의 리스트를 인자로 받아서 그 두 개의 리스트에 대한 '합집합'을 반환하는 함수 list_union(lista, listb)를 작성하시오.\n",
    "\n",
    "  - 집합 자료형 set은 사용하지 않는다.\n",
    "  - 인자로 전달하는 리스트 2 개에는 정수값만 들어간다고 가정하자.\n",
    "  - 함수 내에서 새로운 리스트를 만들어 그 리스트 내에 인자로 받은 두 리스트의 모든 원소를 넣어 반환한다.\n",
    "  - 반환하는 리스트에는 절대로 중복된 원소가 들어 있으면 안된다 (집합의 조건).\n",
    "  - 반환하는 리스트는 정렬이 되어 있어야 한다.\n",
    "  - 다음과 같은 실행 및 출력 결과가 도출되어야 한다.\n",
    "    - list_union([1, 2, 3], [1, 2, 4])\n",
    "      - [1, 2, 3, 4]\n",
    "    - list_union([-10, -5, 0, -1], [100, 9, 0, 9])\n",
    "      - [-10, -5, -1, 0, 9, 100]\n",
    "    - list_union([0, 1, 2], [0, 1, 2])\n",
    "      - [0, 1, 2]\n",
    "  - [참고] 리스트(l) 내에 새로운 정수값 (예를 들어 10)을 넣는 방법은 l.append(10) 이다.\n",
    "  - [참고] 임의의 정수값 (x)이 리스트 (l) 내에 존재하는지 판단하는 방법은 x in l 이다."
   ]
  },
  {
   "cell_type": "code",
   "execution_count": 9,
   "id": "0749c564",
   "metadata": {},
   "outputs": [
    {
     "name": "stdout",
     "output_type": "stream",
     "text": [
      "[1, 2, 3, 4]\n",
      "[-10, -5, -1, 0, 9, 100]\n",
      "[0, 1, 2]\n"
     ]
    }
   ],
   "source": [
    "def list_union(lista, listb):\n",
    "    list = []\n",
    "    \n",
    "    # lista에 있는 요소 list로 append\n",
    "    for i in lista:\n",
    "        list.append(i)\n",
    "    \n",
    "    # listb에 있는 요소 list로 append\n",
    "    for i in listb:\n",
    "        # list에 없는 요소만 append\n",
    "        if (i not in list): list.append(i)\n",
    "    list.sort() # 정렬\n",
    "    return list\n",
    "\n",
    "print(list_union([1,2,3],[1,2,4]))\n",
    "print(list_union([-10,-5,0,-1],[100,9,0,9]))\n",
    "print(list_union([0,1,2],[0,1,2]))"
   ]
  },
  {
   "cell_type": "markdown",
   "id": "54905248",
   "metadata": {},
   "source": [
    "- lista와 listb인 리스트 2개를 입력받으면, 새로운 리스트 변수 list를 생성한다.\n",
    "  for문과 append를 사용하여 입력받은 lista의 요소를 list 변수에 넣는다.\n",
    "  listb의 요소를 list에 넣기 위해서 for문, if문과 append를 사용한다.\n",
    "  if문을 사용해 list에 없는 요소만 넣는다. 마지막으로 list의 요소들을 정력한 뒤 이를 반환하도록 list_union함수를 구현하였다."
   ]
  },
  {
   "cell_type": "markdown",
   "id": "32935774",
   "metadata": {},
   "source": [
    "#### [문제 4]\n",
    "4. 두 개의 리스트를 인자로 받아서 그 두 개의 리스트에 대한 '교집합'을 반환하는 함수 list_intersection(lista, listb)와 '차집합'을 반환하는 함수 list_difference(lista, listb)를 작성하시오.\n",
    "   - 모든 가정과 조건은 3번 문제와 동일하다."
   ]
  },
  {
   "cell_type": "code",
   "execution_count": 10,
   "id": "d27a9147",
   "metadata": {},
   "outputs": [
    {
     "name": "stdout",
     "output_type": "stream",
     "text": [
      "[1, 2]\n",
      "[0]\n",
      "[0, 1, 2]\n"
     ]
    }
   ],
   "source": [
    "# '교집합'을 반환하는 함수 list_intersection(lista, listb)\n",
    "def list_intersection(lista, listb):\n",
    "    # lst = list(set(lista) & set(listb))\n",
    "    lst = list(set(lista).intersection(listb))\n",
    "    lst.sort() # 정렬\n",
    "    return lst\n",
    "\n",
    "print(list_intersection([1,2,3],[1,2,4]))\n",
    "print(list_intersection([-10,-5,0,-1],[100,9,0,9]))\n",
    "print(list_intersection([0,1,2],[0,1,2]))"
   ]
  },
  {
   "cell_type": "markdown",
   "id": "cedc1b51",
   "metadata": {},
   "source": [
    "- 입력받은 lista, listb 리스트 각각을 set으로 중복을 제거한 뒤, '&' 기호를 사용해 lista와 listb에서 겹치는 요소를 lst 리스트 변수에 넣고 정렬한다. 마지막으로 lst를 반환하도록 구현하였다. "
   ]
  },
  {
   "cell_type": "code",
   "execution_count": 11,
   "id": "2531d143",
   "metadata": {},
   "outputs": [
    {
     "name": "stdout",
     "output_type": "stream",
     "text": [
      "[3]\n",
      "[-10, -5, -1]\n",
      "[]\n"
     ]
    }
   ],
   "source": [
    "# '차집합'을 반환하는 함수 list_difference(lista, listb)\n",
    "def list_difference(lista, listb):\n",
    "    # lista에서 listb를 뺀 경우\n",
    "    lst = list(set(lista)- set(listb))\n",
    "    # lst = list(set(lista).difference(listb))\n",
    "    lst.sort()\n",
    "    return lst\n",
    "\n",
    "print(list_difference([1,2,3],[1,2,4]))\n",
    "print(list_difference([-10,-5,0,-1],[100,9,0,9]))\n",
    "print(list_difference([0,1,2],[0,1,2]))"
   ]
  },
  {
   "cell_type": "code",
   "execution_count": 12,
   "id": "f25edc37",
   "metadata": {},
   "outputs": [
    {
     "name": "stdout",
     "output_type": "stream",
     "text": [
      "[4]\n",
      "[9, 100]\n",
      "[]\n"
     ]
    }
   ],
   "source": [
    "# '차집합'을 반환하는 함수 list_difference(lista, listb)\n",
    "def list_difference(lista, listb):\n",
    "    # listb에서 lista를 뺀 경우\n",
    "    lst = list(set(listb)- set(lista))\n",
    "    # lst = list(set(listb).difference(lista))\n",
    "    lst.sort()\n",
    "    return lst\n",
    "\n",
    "print(list_difference([1,2,3],[1,2,4]))\n",
    "print(list_difference([-10,-5,0,-1],[100,9,0,9]))\n",
    "print(list_difference([0,1,2],[0,1,2]))"
   ]
  },
  {
   "cell_type": "markdown",
   "id": "ea82fb83",
   "metadata": {},
   "source": [
    "- lista에서 listb를 뺀 경우와 listb에서 lista를 뺀 경우로 분류하였다.\n",
    "  입력받은 lista와 listb 리스트 각각을 set으로 중복을 제거한 뒤, '-' 기호를 사용해 lst 변수에 넣은 뒤 반환하도록 함수를 구현하였다."
   ]
  },
  {
   "cell_type": "markdown",
   "id": "93804213",
   "metadata": {},
   "source": [
    "#### [문제 5]\n",
    "5. 두 개의 양의 정수를 인자로 받아서 해당 범위안에 있는 소수(prime number)의 리스트를 출력하는 함수 print_primenumber(a, b)를 작성하시오.\n",
    "   - 이미 구현된 모듈이나 라이브러리는 사용하지 않는다.\n",
    "   - 함수의 반환(return)은 없으며 함수 내의 끝에서 .format()을 사용하여 다음과 같이 출력한다.\n",
    "     - print_primenumber(2, 10)\n",
    "       - 2 이상 10 이하 정수 중 소수 리스트: [2, 3, 5, 7]"
   ]
  },
  {
   "cell_type": "code",
   "execution_count": 13,
   "id": "00f400df",
   "metadata": {},
   "outputs": [
    {
     "name": "stdout",
     "output_type": "stream",
     "text": [
      "[2, 3, 5, 7]\n"
     ]
    }
   ],
   "source": [
    "def print_primenumber(a, b):\n",
    "    list = []\n",
    "\n",
    "    for i in range(a,b+1):\n",
    "        cnt = 0; # 약수의 수\n",
    "        for j in range(a, i+1):\n",
    "            # 약수가 존재하는 경우\n",
    "            if(i % j == 0) : cnt += 1\n",
    "        # 약수가 자기자신인 경우 - list에 append\n",
    "        if cnt == 1: list.append(i)    \n",
    "    \n",
    "    print(list)\n",
    "    \n",
    "print_primenumber(2,10)"
   ]
  },
  {
   "cell_type": "markdown",
   "id": "3195f50a",
   "metadata": {},
   "source": [
    "- 소수를 저장하는 list 변수를 생성하였다.\n",
    "  약수의 수를 통해 입력 받은 두 개의 양의 정수 안에 해당하는 소수를 찾아 list 변수에 append 하였고, 범위 안에 해당하는 소수를 담은 리스트를 출력하도록 구현하였다."
   ]
  },
  {
   "cell_type": "markdown",
   "id": "c995f4cd",
   "metadata": {},
   "source": [
    "## [Incremental Project 문제]"
   ]
  },
  {
   "cell_type": "markdown",
   "id": "3e78e9ad",
   "metadata": {},
   "source": [
    "웹 URL로 지정된 웹페이지를 문자열로 가져와 1) 모든 HTML 태그를 제외한 순수 텍스트 문자열만을 걸러내고, 2) 그 순수 텍스트 문자열 안에 존재하는 단어가 총 몇개인지 출력하는 프로그램을 작성하시오.\n",
    "- HTML 태그는 다음 조건을 가지는 것이다.\n",
    "  - < 로 시작하여 >로 끝난다.\n",
    "  - 예를 들어, 아래와 같은 HTML 내용 내에 한 줄이 있다고 가정하자.\n",
    "       \n",
    "           <label for=\"keep_signed\">로그인 유지</label>\n",
    "     - 위 소스에서 HTML 태그를 제외한 순수 텍스트 문자열: 로그인 유지 \n",
    "\n",
    "\n",
    "  - 다른 예제\n",
    "\n",
    "        <a href=\"#panel-3\" class=\"ui-tabs-anchor\" role=\"presentation\" tabindex=\"-1\" id=\"ui-id-3\"><strong>교육역량강화사업 온라인 컨텐츠</strong><br>\n",
    "     - 순수 텍스트 문자열: 교육역량강화사업 온라인 컨텐츠 \n",
    "\n",
    "\n",
    "  - 한편, 아래와 같은 HTML 한 줄이 있다고 가정하자.\n",
    "\n",
    "        <link rel=\"stylesheet\" href=\"/common/css/xe.min.css?20150910092654\" />\n",
    "     - 위 한 줄은 HTML 태그로만 구성된 것이며 걸러낼 수 있는 순수 텍스 문자열은 존재하지 않는다. \n",
    "\n",
    "\n",
    "  - 다른 예제\n",
    "        //<![CDATA[\n",
    "        xe.current_lang = \"ko\";\n",
    "        xe.cmd_find = \"찾기\";\n",
    "        xe.cmd_cancel = \"취소\";\n",
    "        xe.cmd_confirm = \"확인\";\n",
    "        xe.msg_no_root = \"루트는 선택 할 수 없습니다.\";\n",
    "        xe.msg_no_shortcut = \"바로가기는 선택 할 수 없습니다.\";\n",
    "        xe.msg_select_menu = \"대상 메뉴 선택\";\n",
    "        //]]>\n",
    "     - 순수 텍스트 문자열: 없음 \n",
    "\n",
    "  - 단어를 나누는 기준은 오로지 공백문자 (whitespace)이다.\n",
    "    - 즉, 위 순수 텍스트 문자열인 \"로그인 유지\"에서 분리한 단어는 \"로그인\"과 \"유지\"이다.\n",
    "  - 중복을 고려하지 않고 무조건 모든 단어의 개수를 세어서 출력한다.\n",
    "  - 본 숙제를 위하여 HTML 파싱과 관련된 모듈 (예. BeautifulSoup) 사용 금지\n",
    "  - 다음은 URL로 지정된 웹페이지를 특정 문자열로 가져오는 코드이다.\n",
    "    - 즉, 숙제 코드는 아래 코드로 부터 시작해야 한다.\n",
    "    - 아래 코드 수행시 requests 모듈이 존재하지 않는 에러가 발생하면 command 창에서 다음 코드 입력하여 requests 모듈 설치후 아래 코드 수행\n",
    "              > pip install requests  "
   ]
  },
  {
   "cell_type": "code",
   "execution_count": 14,
   "id": "0cc43a53",
   "metadata": {},
   "outputs": [
    {
     "name": "stdout",
     "output_type": "stream",
     "text": [
      "Requirement already satisfied: requests in /Users/pkej01/opt/anaconda3/lib/python3.8/site-packages (2.25.1)\r\n",
      "Requirement already satisfied: certifi>=2017.4.17 in /Users/pkej01/opt/anaconda3/lib/python3.8/site-packages (from requests) (2020.12.5)\r\n",
      "Requirement already satisfied: idna<3,>=2.5 in /Users/pkej01/opt/anaconda3/lib/python3.8/site-packages (from requests) (2.10)\r\n",
      "Requirement already satisfied: chardet<5,>=3.0.2 in /Users/pkej01/opt/anaconda3/lib/python3.8/site-packages (from requests) (4.0.0)\r\n",
      "Requirement already satisfied: urllib3<1.27,>=1.21.1 in /Users/pkej01/opt/anaconda3/lib/python3.8/site-packages (from requests) (1.26.4)\r\n"
     ]
    }
   ],
   "source": [
    "!pip install requests"
   ]
  },
  {
   "cell_type": "code",
   "execution_count": 15,
   "id": "8f9fe51a",
   "metadata": {},
   "outputs": [],
   "source": [
    "import requests\n",
    "req = requests.get('http://cse.koreatech.ac.kr')\n",
    "source = req.text"
   ]
  },
  {
   "cell_type": "code",
   "execution_count": 16,
   "id": "2c1d934b",
   "metadata": {},
   "outputs": [
    {
     "name": "stdout",
     "output_type": "stream",
     "text": [
      ".<html lang=\"en-US\">\n",
      "        <head>\n",
      "                <meta charset=\"UTF-8\"></meta>\n",
      "                <meta http-equiv=\"refresh\" content=\"0;url=https://cse.koreatech.ac.kr\"></meta>\n",
      "                <script type='text/javascript'> \n",
      "                        var i=1 \n",
      "                        function move(){ \n",
      "<!--                                value=\"\"+i+\"\" \t-->\n",
      "<!--                                i=i+1 \t-->\n",
      "<!--                                if(i<=5){ //5는 시간 (단위: 초) \t-->\n",
      "<!--                                        setTimeout(\"move()\",1000) \t-->\n",
      "<!--                                }else{ \t-->\n",
      "                                        location.href='https://cse.koreatech.ac.kr'; \n",
      "<!--                                } \t-->\n",
      "                        } \n",
      "                </script> \n",
      "                <script language=\"JavaScript\" Event=\"onLoad\" For=\"window\"> \n",
      "                        <!-- \n",
      "                                move(); \n",
      "                        //--> \n",
      "                </script>\n",
      "                <title>Page Redirection</title>\n",
      "        </head>\n",
      "        <body>\n",
      "                <!-- Note: don't tell people to `click` the link, just tell them that it is a link. -->\n",
      "                <H2>사이트 폐쇄 안내.</H2>\n",
      "                <H3>특성화 사업 종료로 인한 itcsw.koreatech.ac.kr 사이트가 폐쇄되었습니다.</H3>\n",
      "                <H3>잠시후 컴퓨터공학부 홈페이지로 자동 연결 됩니다.</H3>\n",
      "                If you are not redirected automatically, follow the <a href='https://cse.koreatech.ac.kr'>link to cse.koreatech.ac.kr</a>\n",
      "        </body>\n",
      "</html>\n",
      "\n"
     ]
    }
   ],
   "source": [
    "print(source)"
   ]
  },
  {
   "cell_type": "code",
   "execution_count": 17,
   "id": "dc09388f",
   "metadata": {},
   "outputs": [
    {
     "name": "stdout",
     "output_type": "stream",
     "text": [
      "98\n"
     ]
    }
   ],
   "source": [
    "i = 0\n",
    "txt = ''\n",
    "\n",
    "while i <= len(source)-1 :\n",
    "    if source[i] == '<':\n",
    "        i += 1\n",
    "        while source[i] == '>':\n",
    "            i += 1\n",
    "        i += 1\n",
    "    else:\n",
    "        txt += source[i]\n",
    "        i += 1\n",
    "words = txt.split() # 공벡 문자를 기준으로 문자열 분리\n",
    "print(len(words))"
   ]
  },
  {
   "cell_type": "code",
   "execution_count": 18,
   "id": "6e1be203",
   "metadata": {},
   "outputs": [
    {
     "name": "stdout",
     "output_type": "stream",
     "text": [
      "<!doctype html><html itemscope=\"\" itemtype=\"http://schema.org/WebPage\" lang=\"ko\"><head><meta content=\"text/html; charset=UTF-8\" http-equiv=\"Content-Type\"><meta content=\"/images/branding/googleg/1x/googleg_standard_color_128dp.png\" itemprop=\"image\"><title>Google</title><script nonce=\"XyB3tcfGEqTydvI0OtWm5A==\">(function(){window.google={kEI:'eYNZYe2nHaKWr7wP9OOR6Ac',kEXPI:'0,1302536,56873,1710,4348,207,4804,2316,383,246,5,1354,5250,1122516,1197742,659,328866,51223,16115,28684,17572,4859,1361,283,9007,3024,17585,4020,978,13226,3849,4192,6430,14763,4282,2777,919,5970,704,1279,2212,241,289,149,1103,840,6297,109,3405,606,2023,2297,1704,12966,3227,2845,7,12353,5097,16320,908,2,3555,13142,3,576,6460,148,10040,3935,4,1528,2304,1236,5803,4683,2015,18375,2658,4243,2458,655,31,5663,5749,2216,2305,638,1494,16786,5830,2527,4094,3138,6,908,3,3541,1,14710,1814,283,912,5992,16728,1715,2,14022,1931,3911,1678,744,5852,8703,623,1137,1160,1290,21,5389,2380,2719,4545,3,5473,4635,3604,2,6,7754,2124,2445,2577,3132,107,439,2072,1919,3,23,2,1,3,367,2,978,1265,52,33,181,2880,720,2,752,1636,1413,4,632,2860,601,112,118,268,636,2849,350,1233,539,2342,1275,1884,40,503,1122,452,35,21,192,686,722,228,861,96,963,139,1280,995,1377,324,1070,514,113,115,1165,2,1024,274,70,337,92,581,361,965,1162,46,422,182,1241,2,19,828,4,1720,222,5564184,101,345,160,168,7,1802554,96,4193364,519,2800697,882,444,1,2,80,1,1796,1,9,2553,1,748,141,795,563,1,4265,1,1,2,1331,4142,2609,155,17,13,72,139,4,2,20,2,169,13,19,46,5,39,96,548,29,2,2,1,2,1,2,2,7,4,1,2,2,2,2,2,2,353,513,186,1,1,158,3,2,2,2,2,2,4,2,3,3,269,442,66,34,9,14,1,5,9,8,2,89,51,1,4,1,4,1,4,2,2,11,3,38,6,8,10,3,23953895,2862026,1179325,277,61,3,2862,2,1041,9,1435,1517,291,113,1156,265,887,851',kBL:'sQmO'};google.sn='webhp';google.kHL='ko';})();(function(){\n",
      "var f=this||self;var h,k=[];function l(a){for(var b;a&&(!a.getAttribute||!(b=a.getAttribute(\"eid\")));)a=a.parentNode;return b||h}function m(a){for(var b=null;a&&(!a.getAttribute||!(b=a.getAttribute(\"leid\")));)a=a.parentNode;return b}\n",
      "function n(a,b,c,d,g){var e=\"\";c||-1!==b.search(\"&ei=\")||(e=\"&ei=\"+l(d),-1===b.search(\"&lei=\")&&(d=m(d))&&(e+=\"&lei=\"+d));d=\"\";!c&&f._cshid&&-1===b.search(\"&cshid=\")&&\"slh\"!==a&&(d=\"&cshid=\"+f._cshid);c=c||\"/\"+(g||\"gen_204\")+\"?atyp=i&ct=\"+a+\"&cad=\"+b+e+\"&zx=\"+Date.now()+d;/^http:/i.test(c)&&\"https:\"===window.location.protocol&&(google.ml&&google.ml(Error(\"a\"),!1,{src:c,glmm:1}),c=\"\");return c};h=google.kEI;google.getEI=l;google.getLEI=m;google.ml=function(){return null};google.log=function(a,b,c,d,g){if(c=n(a,b,c,d,g)){a=new Image;var e=k.length;k[e]=a;a.onerror=a.onload=a.onabort=function(){delete k[e]};a.src=c}};google.logUrl=n;}).call(this);(function(){\n",
      "google.y={};google.sy=[];google.x=function(a,b){if(a)var c=a.id;else{do c=Math.random();while(google.y[c])}google.y[c]=[a,b];return!1};google.sx=function(a){google.sy.push(a)};google.lm=[];google.plm=function(a){google.lm.push.apply(google.lm,a)};google.lq=[];google.load=function(a,b,c){google.lq.push([[a],b,c])};google.loadAll=function(a,b){google.lq.push([a,b])};google.bx=!1;google.lx=function(){};}).call(this);google.f={};(function(){\n",
      "document.documentElement.addEventListener(\"submit\",function(b){var a;if(a=b.target){var c=a.getAttribute(\"data-submitfalse\");a=\"1\"===c||\"q\"===c&&!a.elements.q.value?!0:!1}else a=!1;a&&(b.preventDefault(),b.stopPropagation())},!0);document.documentElement.addEventListener(\"click\",function(b){var a;a:{for(a=b.target;a&&a!==document.documentElement;a=a.parentElement)if(\"A\"===a.tagName){a=\"1\"===a.getAttribute(\"data-nohref\");break a}a=!1}a&&b.preventDefault()},!0);}).call(this);</script><style>#gbar,#guser{font-size:13px;padding-top:1px !important;}#gbar{height:22px}#guser{padding-bottom:7px !important;text-align:right}.gbh,.gbd{border-top:1px solid #c9d7f1;font-size:1px}.gbh{height:0;position:absolute;top:24px;width:100%}@media all{.gb1{height:22px;margin-right:.5em;vertical-align:top}#gbar{float:left}}a.gb1,a.gb4{text-decoration:underline !important}a.gb1,a.gb4{color:#00c !important}.gbi .gb4{color:#dd8e27 !important}.gbf .gb4{color:#900 !important}\n",
      "</style><style>body,td,a,p,.h{font-family:굴림,돋움,arial,sans-serif}.ko{font-size:9pt}body{margin:0;overflow-y:scroll}#gog{padding:3px 8px 0}td{line-height:.8em}.gac_m td{line-height:17px}form{margin-bottom:20px}.h{color:#1558d6}em{font-weight:bold;font-style:normal}.lst{height:25px;width:496px}.gsfi,.lst{font:18px arial,sans-serif}.gsfs{font:17px arial,sans-serif}.ds{display:inline-box;display:inline-block;margin:3px 0 4px;margin-left:4px}input{font-family:inherit}body{background:#fff;color:#000}a{color:#4b11a8;text-decoration:none}a:hover,a:active{text-decoration:underline}.fl a{color:#1558d6}a:visited{color:#4b11a8}.sblc{padding-top:5px}.sblc a{display:block;margin:2px 0;margin-left:13px;font-size:11px}.lsbb{background:#f8f9fa;border:solid 1px;border-color:#dadce0 #70757a #70757a #dadce0;height:30px}.lsbb{display:block}#WqQANb a{display:inline-block;margin:0 12px}.lsb{background:url(/images/nav_logo229.png) 0 -261px repeat-x;border:none;color:#000;cursor:pointer;height:30px;margin:0;outline:0;font:15px arial,sans-serif;vertical-align:top}.lsb:active{background:#dadce0}.lst:focus{outline:none}.tiah{width:458px}</style><script nonce=\"XyB3tcfGEqTydvI0OtWm5A==\">(function(){window.google.erd={sp:'hp',jsr:0,bv:1454};\n",
      "var f=this||self;var g,h,k=null!==(g=f.mei)&&void 0!==g?g:1,l=null!==(h=f.sdo)&&void 0!==h?h:!0,n=0,p,q=google.erd,t=q.jsr;google.ml=function(a,b,e,m,d){d=void 0===d?2:d;b&&(p=a&&a.message);if(google.dl)return google.dl(a,d,e),null;if(0>t){window.console&&console.error(a,e);if(-2===t)throw a;b=!1}else b=!a||!a.message||\"Error loading script\"===a.message||n>=k&&!m?!1:!0;if(!b)return null;n++;e=e||{};b=encodeURIComponent;var c=\"/gen_204?atyp=i&ei=\"+b(google.kEI);google.kEXPI&&(c+=\"&jexpid=\"+b(google.kEXPI));c+=\"&srcpg=\"+b(q.sp)+\"&jsr=\"+b(q.jsr)+\"&bver=\"+b(q.bv)+(\"&jsel=\"+d);c+=\"&sn=\"+b(google.sn);for(var r in e)c+=\"&\",c+=b(r),c+=\"=\",c+=b(e[r]);c=c+\"&emsg=\"+b(a.name+\": \"+a.message);c=c+\"&jsst=\"+b(a.stack||\"N/A\");12288<=c.length&&(c=c.substr(0,12288));a=c;m||google.log(0,\"\",a);return a};window.onerror=function(a,b,e,m,d){p!==a&&google.ml(d instanceof Error?d:Error(a),!1,void 0,!1,0);p=null;l&&n>=k&&(window.onerror=null)};})();</script></head><body bgcolor=\"#fff\"><script nonce=\"XyB3tcfGEqTydvI0OtWm5A==\">(function(){var src='/images/nav_logo229.png';var iesg=false;document.body.onload = function(){window.n && window.n();if (document.images){new Image().src=src;}\n",
      "if (!iesg){document.f&&document.f.q.focus();document.gbqf&&document.gbqf.q.focus();}\n",
      "}\n",
      "})();</script><div id=\"mngb\"><div id=gbar><nobr><b class=gb1>검색</b> <a class=gb1 href=\"https://www.google.co.kr/imghp?hl=ko&tab=wi\">이미지</a> <a class=gb1 href=\"https://maps.google.co.kr/maps?hl=ko&tab=wl\">지도</a> <a class=gb1 href=\"https://play.google.com/?hl=ko&tab=w8\">Play</a> <a class=gb1 href=\"https://www.youtube.com/?gl=KR&tab=w1\">YouTube</a> <a class=gb1 href=\"https://news.google.com/?tab=wn\">뉴스</a> <a class=gb1 href=\"https://mail.google.com/mail/?tab=wm\">Gmail</a> <a class=gb1 href=\"https://drive.google.com/?tab=wo\">드라이브</a> <a class=gb1 style=\"text-decoration:none\" href=\"https://www.google.co.kr/intl/ko/about/products?tab=wh\"><u>더보기</u> &raquo;</a></nobr></div><div id=guser width=100%><nobr><span id=gbn class=gbi></span><span id=gbf class=gbf></span><span id=gbe></span><a href=\"http://www.google.co.kr/history/optout?hl=ko\" class=gb4>웹 기록</a> | <a  href=\"/preferences?hl=ko\" class=gb4>설정</a> | <a target=_top id=gb_70 href=\"https://accounts.google.com/ServiceLogin?hl=ko&passive=true&continue=https://www.google.co.kr/&ec=GAZAAQ\" class=gb4>로그인</a></nobr></div><div class=gbh style=left:0></div><div class=gbh style=right:0></div></div><center><br clear=\"all\" id=\"lgpd\"><div id=\"lga\"><img alt=\"Google\" height=\"92\" src=\"/images/branding/googlelogo/1x/googlelogo_white_background_color_272x92dp.png\" style=\"padding:28px 0 14px\" width=\"272\" id=\"hplogo\"><br><br></div><form action=\"/search\" name=\"f\"><table cellpadding=\"0\" cellspacing=\"0\"><tr valign=\"top\"><td width=\"25%\">&nbsp;</td><td align=\"center\" nowrap=\"\"><input name=\"ie\" value=\"EUC-KR\" type=\"hidden\"><input value=\"ko\" name=\"hl\" type=\"hidden\"><input name=\"source\" type=\"hidden\" value=\"hp\"><input name=\"biw\" type=\"hidden\"><input name=\"bih\" type=\"hidden\"><div class=\"ds\" style=\"height:32px;margin:4px 0\"><div style=\"position:relative;zoom:1\"><input class=\"lst tiah\" style=\"margin:0;padding:5px 8px 0 6px;vertical-align:top;color:#000;padding-right:38px\" autocomplete=\"off\" value=\"\" title=\"Google 검색\" maxlength=\"2048\" name=\"q\" size=\"57\"><img src=\"/textinputassistant/tia.png\" style=\"position:absolute;cursor:pointer;right:5px;top:4px;z-index:300\" data-script-url=\"/textinputassistant/11/ko_tia.js\" id=\"tsuid1\" alt=\"\" height=\"23\" width=\"27\"><script nonce=\"XyB3tcfGEqTydvI0OtWm5A==\">(function(){var id='tsuid1';document.getElementById(id).onclick = function(){var s = document.createElement('script');s.src = this.getAttribute('data-script-url');(document.getElementById('xjsc')||document.body).appendChild(s);};})();</script></div></div><br style=\"line-height:0\"><span class=\"ds\"><span class=\"lsbb\"><input class=\"lsb\" value=\"Google 검색\" name=\"btnG\" type=\"submit\"></span></span><span class=\"ds\"><span class=\"lsbb\"><input class=\"lsb\" id=\"tsuid2\" value=\"I’m Feeling Lucky\" name=\"btnI\" type=\"submit\"><script nonce=\"XyB3tcfGEqTydvI0OtWm5A==\">(function(){var id='tsuid2';document.getElementById(id).onclick = function(){if (this.form.q.value){this.checked = 1;if (this.form.iflsig)this.form.iflsig.disabled = false;}\n",
      "else top.location='/doodles/';};})();</script><input value=\"ALs-wAMAAAAAYVmRiZ44BcrBQ5VsrCQPEgdG7773gbSn\" name=\"iflsig\" type=\"hidden\"></span></span></td><td class=\"fl sblc\" align=\"left\" nowrap=\"\" width=\"25%\"><a href=\"/advanced_search?hl=ko&amp;authuser=0\">고급검색</a></td></tr></table><input id=\"gbv\" name=\"gbv\" type=\"hidden\" value=\"1\"><script nonce=\"XyB3tcfGEqTydvI0OtWm5A==\">(function(){\n",
      "var a,b=\"1\";if(document&&document.getElementById)if(\"undefined\"!=typeof XMLHttpRequest)b=\"2\";else if(\"undefined\"!=typeof ActiveXObject){var c,d,e=[\"MSXML2.XMLHTTP.6.0\",\"MSXML2.XMLHTTP.3.0\",\"MSXML2.XMLHTTP\",\"Microsoft.XMLHTTP\"];for(c=0;d=e[c++];)try{new ActiveXObject(d),b=\"2\"}catch(h){}}a=b;if(\"2\"==a&&-1==location.search.indexOf(\"&gbv=2\")){var f=google.gbvu,g=document.getElementById(\"gbv\");g&&(g.value=a);f&&window.setTimeout(function(){location.href=f},0)};}).call(this);</script></form><div id=\"gac_scont\"></div><div style=\"font-size:83%;min-height:3.5em\"><br></div><span id=\"footer\"><div style=\"font-size:10pt\"><div style=\"margin:19px auto;text-align:center\" id=\"WqQANb\"><a href=\"/intl/ko/ads/\">광고 프로그램</a><a href=\"http://www.google.co.kr/intl/ko/services/\">비즈니스 솔루션</a><a href=\"/intl/ko/about.html\">Google 정보</a><a href=\"https://www.google.co.kr/setprefdomain?prefdom=US&amp;sig=K_Sgz8Z1AeMo-FzJh-TIKMd9u144Y%3D\" id=\"fehl\">Google.com</a></div></div><p style=\"font-size:8pt;color:#70757a\">&copy; 2021 - <a href=\"/intl/ko/policies/privacy/\">개인정보처리방침</a> - <a href=\"/intl/ko/policies/terms/\">약관</a></p></span></center><script nonce=\"XyB3tcfGEqTydvI0OtWm5A==\">(function(){window.google.cdo={height:757,width:1440};(function(){\n",
      "var a=window.innerWidth,b=window.innerHeight;if(!a||!b){var c=window.document,d=\"CSS1Compat\"==c.compatMode?c.documentElement:c.body;a=d.clientWidth;b=d.clientHeight}a&&b&&(a!=google.cdo.width||b!=google.cdo.height)&&google.log(\"\",\"\",\"/client_204?&atyp=i&biw=\"+a+\"&bih=\"+b+\"&ei=\"+google.kEI);}).call(this);})();</script> <script nonce=\"XyB3tcfGEqTydvI0OtWm5A==\">(function(){google.xjs={ck:'',cs:'',excm:[]};})();</script>  <script nonce=\"XyB3tcfGEqTydvI0OtWm5A==\">(function(){var u='/xjs/_/js/k\\x3dxjs.hp.en.scm1Byk6VYA.O/am\\x3dAPgEWA/d\\x3d1/ed\\x3d1/rs\\x3dACT90oFzH2MYmT03pSqUxHUG1sV8y6JSDA/m\\x3dsb_he,d';\n",
      "var e=this||self,f=function(a){return a};\n",
      "var g;var l=function(a,b){this.g=b===h?a:\"\"};l.prototype.toString=function(){return this.g+\"\"};var h={};function m(){var a=u;google.lx=function(){n(a);google.lx=function(){}};google.bx||google.lx()}\n",
      "function n(a){google.timers&&google.timers.load&&google.tick&&google.tick(\"load\",\"xjsls\");var b=document;var c=\"SCRIPT\";\"application/xhtml+xml\"===b.contentType&&(c=c.toLowerCase());c=b.createElement(c);if(void 0===g){b=null;var k=e.trustedTypes;if(k&&k.createPolicy){try{b=k.createPolicy(\"goog#html\",{createHTML:f,createScript:f,createScriptURL:f})}catch(p){e.console&&e.console.error(p.message)}g=b}else g=b}a=(b=g)?b.createScriptURL(a):a;a=new l(a,h);c.src=a instanceof l&&a.constructor===l?a.g:\"type_error:TrustedResourceUrl\";var d;a=(c.ownerDocument&&c.ownerDocument.defaultView||window).document;(d=(b=null===(d=a.querySelector)||void 0===d?void 0:d.call(a,\"script[nonce]\"))?b.nonce||b.getAttribute(\"nonce\")||\"\":\"\")&&c.setAttribute(\"nonce\",d);document.body.appendChild(c);google.psa=!0};setTimeout(function(){m()},0);})();(function(){window.google.xjsu='/xjs/_/js/k\\x3dxjs.hp.en.scm1Byk6VYA.O/am\\x3dAPgEWA/d\\x3d1/ed\\x3d1/rs\\x3dACT90oFzH2MYmT03pSqUxHUG1sV8y6JSDA/m\\x3dsb_he,d';})();function _DumpException(e){throw e;}\n",
      "function _F_installCss(c){}\n",
      "(function(){google.jl={attn:false,blt:'none',chnk:0,dw:false,dwu:true,emtn:0,end:0,ine:false,lls:'default',pdt:0,rep:0,snet:true,strt:0,ubm:false,uwp:true};})();(function(){var pmc='{\\x22d\\x22:{},\\x22sb_he\\x22:{\\x22agen\\x22:true,\\x22cgen\\x22:true,\\x22client\\x22:\\x22heirloom-hp\\x22,\\x22dh\\x22:true,\\x22dhqt\\x22:true,\\x22ds\\x22:\\x22\\x22,\\x22ffql\\x22:\\x22ko\\x22,\\x22fl\\x22:true,\\x22host\\x22:\\x22google.co.kr\\x22,\\x22isbh\\x22:28,\\x22jsonp\\x22:true,\\x22msgs\\x22:{\\x22cibl\\x22:\\x22검색어 지우기\\x22,\\x22dym\\x22:\\x22이것을 찾으셨나요?\\x22,\\x22lcky\\x22:\\x22I’m Feeling Lucky\\x22,\\x22lml\\x22:\\x22자세히 알아보기\\x22,\\x22oskt\\x22:\\x22입력 도구\\x22,\\x22psrc\\x22:\\x22검색어가 \\\\u003Ca href\\x3d\\\\\\x22/history\\\\\\x22\\\\u003E웹 기록\\\\u003C/a\\\\u003E에서 삭제되었습니다.\\x22,\\x22psrl\\x22:\\x22삭제\\x22,\\x22sbit\\x22:\\x22이미지로 검색\\x22,\\x22srch\\x22:\\x22Google 검색\\x22},\\x22ovr\\x22:{},\\x22pq\\x22:\\x22\\x22,\\x22refpd\\x22:true,\\x22refspre\\x22:true,\\x22rfs\\x22:[],\\x22sbas\\x22:\\x220 3px 8px 0 rgba(0,0,0,0.2),0 0 0 1px rgba(0,0,0,0.08)\\x22,\\x22sbpl\\x22:16,\\x22sbpr\\x22:16,\\x22scd\\x22:10,\\x22stok\\x22:\\x2256kCw74BkAe6ns35ah5qpkaZbAA\\x22,\\x22uhde\\x22:false}}';google.pmc=JSON.parse(pmc);})();</script>        </body></html>\n"
     ]
    }
   ],
   "source": [
    "req = requests.get('https://www.google.co.kr/')\n",
    "source = req.text\n",
    "print(source)"
   ]
  },
  {
   "cell_type": "code",
   "execution_count": 19,
   "id": "8b3130c3",
   "metadata": {},
   "outputs": [
    {
     "name": "stdout",
     "output_type": "stream",
     "text": [
      "344\n"
     ]
    }
   ],
   "source": [
    "i = 0\n",
    "txt = ''\n",
    "\n",
    "# '<'가 source[i]라 가정하고, i를 1씩 증가시기면서 '>'가 될 때 까지 진행 \n",
    "while i <= len(source)-1 :\n",
    "    if source[i] == '<':\n",
    "        i += 1\n",
    "        while source[i] == '>':\n",
    "            i += 1\n",
    "        i += 1\n",
    "    # tag가 아닌 경우   \n",
    "    else:\n",
    "        txt += source[i]\n",
    "        i += 1\n",
    "words = txt.split()\n",
    "print(len(words))"
   ]
  },
  {
   "cell_type": "markdown",
   "id": "78ec1235",
   "metadata": {},
   "source": [
    "1. 순수 텍스트 문자열만 추출하기 위해 '<', '>' tag로 둘러싸인 부분을 무시하고 문자열만을 확인할 수 있도록 했다. \n",
    "2. source[i]가 tag 안의 문자열이 아닌 경우에는 txt 변수에 저장하도록 했다.\n",
    "3. 순수 텍스트 안에 몇 개의 단어가 존재하는지를 출력하기 위해 split()을 사용해 공백 문자를 기준으로 단어를 words의 요소로 넣었다.\n",
    "4. 총 단어의 수는 words의 요소 수와 같으므로 word의 길이를 출력하도록 구현했다."
   ]
  },
  {
   "cell_type": "markdown",
   "id": "6408d680",
   "metadata": {},
   "source": [
    "> <span style=\"color:gray\">느낀점</span>\n",
    "> - 문제 4의 차집합에서 lista에서 listb를 뺀 리스트 요소의 값과 listb에서 lista 뺀 리스트의 요소의 값의 출력 결과가 다르다는 것을 차집합에 대한 개념을 다시 한 번 상기시킬 수 있었다.\n",
    "> - Incremental Project 문제에서 과제 소스에 제시된 print(source)의 출력된 결과와 과제를 진행하는 과정에서 print(source)의 출력 결과와 달라 당황했었다. 새로운 노트북을 생성해 코드를 복사해 진행했지만, 출력 결과는 똑같았다. 다른 방법으로 urllib 패키지를 사용해 인터넷 리소스를 가져오는 방법으로 해봤지만 역시나 출력 결과는 그대로였다. 어떤 문제가 있어서 출력 결과가 다른 것인지 알고 싶었으나 끝내 알지 못했다.  \n",
    "\n",
    "- urllib 패키지를 사용해 인터넷 리소스를 가져오기\n",
    "                from urllib import request \n",
    "                url = 'http://cse.koreatech.ac.kr'\n",
    "                f = request.urlopen(url)\n",
    "                source_bytes = f.read()\n",
    "                source = source_bytes.decode('utf-8')"
   ]
  }
 ],
 "metadata": {
  "kernelspec": {
   "display_name": "Python 3",
   "language": "python",
   "name": "python3"
  },
  "language_info": {
   "codemirror_mode": {
    "name": "ipython",
    "version": 3
   },
   "file_extension": ".py",
   "mimetype": "text/x-python",
   "name": "python",
   "nbconvert_exporter": "python",
   "pygments_lexer": "ipython3",
   "version": "3.8.8"
  }
 },
 "nbformat": 4,
 "nbformat_minor": 5
}
