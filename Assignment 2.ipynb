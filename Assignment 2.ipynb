{
 "cells": [
  {
   "cell_type": "markdown",
   "id": "1f479a26",
   "metadata": {},
   "source": [
    "# Assignment 2"
   ]
  },
  {
   "cell_type": "markdown",
   "id": "c24fc49f",
   "metadata": {},
   "source": [
    "## [일반 문제]"
   ]
  },
  {
   "cell_type": "markdown",
   "id": "f926410a",
   "metadata": {},
   "source": [
    "#### [문제 1]\n",
    "1. 다음 6 개의 Expression에 대해 Evaluation 결과 값을 출력하고, 해당 결과가 나온 이유에 대해 설명하시오."
   ]
  },
  {
   "cell_type": "markdown",
   "id": "6748c12e",
   "metadata": {},
   "source": [
    "- 연산은 왼쪽부터 시작한다.\n",
    "  1. 첫 번째 값이 true일 경우 \n",
    "     - and일 경우 : 앞뒤의 피연산자가 둘다 true인것을 확인해야하므로 뒤의 피연산자 출력\n",
    "     - or일 경우 : 앞뒤 중 하나의 피연산자가 true면 true로 판단할 수 있으므로 앞의 피연산자가 true면 뒤의 피연산자를 볼 필요가 없다. 따라서 앞의 피연산자 출력\n",
    "  2. 0을 제외한 정수는 true를 반환"
   ]
  },
  {
   "cell_type": "code",
   "execution_count": 1,
   "id": "cd9fee0d",
   "metadata": {
    "scrolled": true
   },
   "outputs": [
    {
     "data": {
      "text/plain": [
       "4"
      ]
     },
     "execution_count": 1,
     "metadata": {},
     "output_type": "execute_result"
    }
   ],
   "source": [
    "# 1\n",
    "1 and 2 and 3 and 4"
   ]
  },
  {
   "cell_type": "markdown",
   "id": "3d4260dc",
   "metadata": {},
   "source": [
    "- and는 뒤의 피연산자까지 확인해야하므로 맨 마지막 피연산자인 4가 출력된다."
   ]
  },
  {
   "cell_type": "code",
   "execution_count": 2,
   "id": "ffb46003",
   "metadata": {
    "scrolled": true
   },
   "outputs": [
    {
     "data": {
      "text/plain": [
       "1"
      ]
     },
     "execution_count": 2,
     "metadata": {},
     "output_type": "execute_result"
    }
   ],
   "source": [
    "# 2\n",
    "1 or 2 or 3 or 4"
   ]
  },
  {
   "cell_type": "markdown",
   "id": "ed9aa213",
   "metadata": {},
   "source": [
    "- or은 앞의 피연산자가 true면 뒤의 피연산자를 확인할 필요가 없으므로 1이 출력된다."
   ]
  },
  {
   "cell_type": "code",
   "execution_count": 3,
   "id": "3e12fdfc",
   "metadata": {
    "scrolled": true
   },
   "outputs": [
    {
     "data": {
      "text/plain": [
       "2"
      ]
     },
     "execution_count": 3,
     "metadata": {},
     "output_type": "execute_result"
    }
   ],
   "source": [
    "# 3\n",
    "1 and 2 or 3 and 4"
   ]
  },
  {
   "cell_type": "markdown",
   "id": "31afb09a",
   "metadata": {},
   "source": [
    "- 1 and 2에서 2를 반환한다. 그 다음으로 2 or 3에서 2가 true이므로 뒤의 피연산자를 확인할 필요가 없으므로 최종적으로는 2가 출력된다."
   ]
  },
  {
   "cell_type": "code",
   "execution_count": 4,
   "id": "4c30132a",
   "metadata": {},
   "outputs": [
    {
     "data": {
      "text/plain": [
       "2"
      ]
     },
     "execution_count": 4,
     "metadata": {},
     "output_type": "execute_result"
    }
   ],
   "source": [
    "# 4\n",
    "(1 and 2) or (3 and 4)"
   ]
  },
  {
   "cell_type": "markdown",
   "id": "a0921d19",
   "metadata": {},
   "source": [
    "- 괄호 안의 연산이 우선이므로 괄호 안부터 읽어들인다. \n",
    "  1 and 2에서는 2, 3 and 4에서는 4를 반환한다. 다음으로 2 or 3에서 2가 true이므로 뒤의 피연산자를 볼 필요가 없으므로 2가 출력된다."
   ]
  },
  {
   "cell_type": "code",
   "execution_count": 5,
   "id": "bb14d2b8",
   "metadata": {
    "scrolled": true
   },
   "outputs": [
    {
     "data": {
      "text/plain": [
       "1"
      ]
     },
     "execution_count": 5,
     "metadata": {},
     "output_type": "execute_result"
    }
   ],
   "source": [
    "# 5\n",
    "1 or 2 and 3 or 4"
   ]
  },
  {
   "cell_type": "markdown",
   "id": "3444b8d0",
   "metadata": {},
   "source": [
    "- 1 or 2에서 1이 true이므로 그 뒤로 오는 and 3 or 4를 볼 필요가 없다. 따라서 1이 출력된다."
   ]
  },
  {
   "cell_type": "code",
   "execution_count": 6,
   "id": "52c511de",
   "metadata": {},
   "outputs": [
    {
     "data": {
      "text/plain": [
       "3"
      ]
     },
     "execution_count": 6,
     "metadata": {},
     "output_type": "execute_result"
    }
   ],
   "source": [
    "# 6\n",
    "(1 or 2) and (3 or 4)"
   ]
  },
  {
   "cell_type": "markdown",
   "id": "e718aae3",
   "metadata": {},
   "source": [
    "- 1 or 2에서는 1, 3 or 4에서는 3을 반환한다. 그 후로는 1 and 3을 연산한다.\n",
    "  and 연산자이므로 뒤의 피연산자까지 확인해야므로 3이 출력된다."
   ]
  },
  {
   "cell_type": "markdown",
   "id": "db7c2559",
   "metadata": {},
   "source": [
    "#### [문제 2]\n",
    "2. 경로에 해당하는 문자열 1개를 입력 받아 그 안에 디렉토리 경로명과 파일명을 분리하여 리스트로 반환하는 함수 div_path(s)를 작성하시오.\n",
    "   - 인자로 전달하는 문자열은 경로만 들어간다고 가정한다.\n",
    "   - 각 디렉토리와 파일을 구분하는 문자는 '/'로 가정한다.\n",
    "   - 반환하는 리스트의 첫번째 원소는 디렉토리이고 두번째 원소는 파일명이다.\n",
    "   - 다음과 같은 실행 및 출력 결과가 도출되어야 한다.\n",
    "     - div_path('/usr/local/bin/python')\n",
    "       - ['/usr/local/bin', 'python']\n",
    "     - div_path('/home/chulsoo/test.txt')\n",
    "       - ['/home/chulsoo', 'test.txt']\n",
    "   - [참고] 리스트(l) 내에 새로운 정수값 (예를 들어 10)을 넣는 방법은 l.append(10) 이다."
   ]
  },
  {
   "cell_type": "code",
   "execution_count": 7,
   "id": "b7198761",
   "metadata": {},
   "outputs": [
    {
     "name": "stdout",
     "output_type": "stream",
     "text": [
      "/usr/local/bin/python\n",
      "['/usr/local/bin', 'python']\n"
     ]
    }
   ],
   "source": [
    "def dev_path(s):\n",
    "    list = s.split('/')\n",
    "    result = []\n",
    "    result.append('/'.join(list[:-1]))\n",
    "    result.append(list[-1])\n",
    "    return result\n",
    "\n",
    "s = input()\n",
    "print(dev_path(s))"
   ]
  },
  {
   "cell_type": "code",
   "execution_count": 8,
   "id": "dc64206c",
   "metadata": {},
   "outputs": [
    {
     "name": "stdout",
     "output_type": "stream",
     "text": [
      "['/home/chulsoo', 'test.txt']\n"
     ]
    }
   ],
   "source": [
    "s = \"/home/chulsoo/test.txt\"\n",
    "print(dev_path(s))"
   ]
  },
  {
   "cell_type": "markdown",
   "id": "668d8006",
   "metadata": {},
   "source": [
    "- '/'를 기준으로 split 했다. # ['', 'user', 'local', 'bin', 'python']\n",
    "- 위의 리스트에서 맨 마지막 요소를 가져오고, 그 앞의 요소들을 리스트로 원상복귀하기 위해 join을 사용했다. 리스트가 문자열로 변환하는 과정에서 요소 사이사이에 '/'가 삽입된다. \n",
    "- result 리스트 변수를 만들어 append를 이용해 디렉토리 경로명과 파일명을 result에 넣은 뒤 출력하면 위에서 출력된 결과와 같이 출력된다.\n"
   ]
  },
  {
   "cell_type": "markdown",
   "id": "d8352675",
   "metadata": {},
   "source": [
    "#### [문제 3]"
   ]
  },
  {
   "cell_type": "markdown",
   "id": "ebd7cf35",
   "metadata": {},
   "source": [
    "3. 두 개의 리스트를 인자로 받아서 그 두 개의 리스트에 대한 '합집합'을 반환하는 함수 list_union(lista, listb)를 작성하시오.\n",
    "\n",
    "  - 집합 자료형 set은 사용하지 않는다.\n",
    "  - 인자로 전달하는 리스트 2 개에는 정수값만 들어간다고 가정하자.\n",
    "  - 함수 내에서 새로운 리스트를 만들어 그 리스트 내에 인자로 받은 두 리스트의 모든 원소를 넣어 반환한다.\n",
    "  - 반환하는 리스트에는 절대로 중복된 원소가 들어 있으면 안된다 (집합의 조건).\n",
    "  - 반환하는 리스트는 정렬이 되어 있어야 한다.\n",
    "  - 다음과 같은 실행 및 출력 결과가 도출되어야 한다.\n",
    "    - list_union([1, 2, 3], [1, 2, 4])\n",
    "      - [1, 2, 3, 4]\n",
    "    - list_union([-10, -5, 0, -1], [100, 9, 0, 9])\n",
    "      - [-10, -5, -1, 0, 9, 100]\n",
    "    - list_union([0, 1, 2], [0, 1, 2])\n",
    "      - [0, 1, 2]\n",
    "  - [참고] 리스트(l) 내에 새로운 정수값 (예를 들어 10)을 넣는 방법은 l.append(10) 이다.\n",
    "  - [참고] 임의의 정수값 (x)이 리스트 (l) 내에 존재하는지 판단하는 방법은 x in l 이다."
   ]
  },
  {
   "cell_type": "code",
   "execution_count": 9,
   "id": "0749c564",
   "metadata": {},
   "outputs": [
    {
     "name": "stdout",
     "output_type": "stream",
     "text": [
      "[1, 2, 3, 4]\n",
      "[-10, -5, -1, 0, 9, 100]\n",
      "[0, 1, 2]\n"
     ]
    }
   ],
   "source": [
    "def list_union(lista, listb):\n",
    "    list = []\n",
    "    \n",
    "    # lista에 있는 요소 list로 append\n",
    "    for i in lista:\n",
    "        list.append(i)\n",
    "    \n",
    "    # listb에 있는 요소 list로 append\n",
    "    for i in listb:\n",
    "        # list에 없는 요소만 append\n",
    "        if (i not in list): list.append(i)\n",
    "    list.sort() # 정렬\n",
    "    return list\n",
    "\n",
    "print(list_union([1,2,3],[1,2,4]))\n",
    "print(list_union([-10,-5,0,-1],[100,9,0,9]))\n",
    "print(list_union([0,1,2],[0,1,2]))"
   ]
  },
  {
   "cell_type": "markdown",
   "id": "54905248",
   "metadata": {},
   "source": [
    "- lista와 listb인 리스트 2개를 입력받으면, 새로운 리스트 변수 list를 생성한다.\n",
    "  for문과 append를 사용하여 입력받은 lista의 요소를 list 변수에 넣는다.\n",
    "  listb의 요소를 list에 넣기 위해서 for문, if문과 append를 사용한다.\n",
    "  if문을 사용해 list에 없는 요소만 넣는다. 마지막으로 list의 요소들을 정력한 뒤 이를 반환하도록 list_union함수를 구현하였다."
   ]
  },
  {
   "cell_type": "markdown",
   "id": "32935774",
   "metadata": {},
   "source": [
    "#### [문제 4]\n",
    "4. 두 개의 리스트를 인자로 받아서 그 두 개의 리스트에 대한 '교집합'을 반환하는 함수 list_intersection(lista, listb)와 '차집합'을 반환하는 함수 list_difference(lista, listb)를 작성하시오.\n",
    "   - 모든 가정과 조건은 3번 문제와 동일하다."
   ]
  },
  {
   "cell_type": "code",
   "execution_count": 10,
   "id": "d27a9147",
   "metadata": {},
   "outputs": [
    {
     "name": "stdout",
     "output_type": "stream",
     "text": [
      "[1, 2]\n",
      "[0]\n",
      "[0, 1, 2]\n"
     ]
    }
   ],
   "source": [
    "# '교집합'을 반환하는 함수 list_intersection(lista, listb)\n",
    "def list_intersection(lista, listb):\n",
    "    # lst = list(set(lista) & set(listb))\n",
    "    lst = list(set(lista).intersection(listb))\n",
    "    lst.sort() # 정렬\n",
    "    return lst\n",
    "\n",
    "print(list_intersection([1,2,3],[1,2,4]))\n",
    "print(list_intersection([-10,-5,0,-1],[100,9,0,9]))\n",
    "print(list_intersection([0,1,2],[0,1,2]))"
   ]
  },
  {
   "cell_type": "markdown",
   "id": "cedc1b51",
   "metadata": {},
   "source": [
    "- 입력받은 lista, listb 리스트 각각을 set으로 중복을 제거한 뒤, '&' 기호를 사용해 lista와 listb에서 겹치는 요소를 lst 리스트 변수에 넣고 정렬한다. 마지막으로 lst를 반환하도록 구현하였다. "
   ]
  },
  {
   "cell_type": "code",
   "execution_count": 11,
   "id": "2531d143",
   "metadata": {},
   "outputs": [
    {
     "name": "stdout",
     "output_type": "stream",
     "text": [
      "[3]\n",
      "[-10, -5, -1]\n",
      "[]\n"
     ]
    }
   ],
   "source": [
    "# '차집합'을 반환하는 함수 list_difference(lista, listb)\n",
    "def list_difference(lista, listb):\n",
    "    # lista에서 listb를 뺀 경우\n",
    "    lst = list(set(lista)- set(listb))\n",
    "    # lst = list(set(lista).difference(listb))\n",
    "    lst.sort()\n",
    "    return lst\n",
    "\n",
    "print(list_difference([1,2,3],[1,2,4]))\n",
    "print(list_difference([-10,-5,0,-1],[100,9,0,9]))\n",
    "print(list_difference([0,1,2],[0,1,2]))"
   ]
  },
  {
   "cell_type": "code",
   "execution_count": 12,
   "id": "f25edc37",
   "metadata": {},
   "outputs": [
    {
     "name": "stdout",
     "output_type": "stream",
     "text": [
      "[4]\n",
      "[9, 100]\n",
      "[]\n"
     ]
    }
   ],
   "source": [
    "# '차집합'을 반환하는 함수 list_difference(lista, listb)\n",
    "def list_difference(lista, listb):\n",
    "    # listb에서 lista를 뺀 경우\n",
    "    lst = list(set(listb)- set(lista))\n",
    "    # lst = list(set(listb).difference(lista))\n",
    "    lst.sort()\n",
    "    return lst\n",
    "\n",
    "print(list_difference([1,2,3],[1,2,4]))\n",
    "print(list_difference([-10,-5,0,-1],[100,9,0,9]))\n",
    "print(list_difference([0,1,2],[0,1,2]))"
   ]
  },
  {
   "cell_type": "markdown",
   "id": "ea82fb83",
   "metadata": {},
   "source": [
    "- lista에서 listb를 뺀 경우와 listb에서 lista를 뺀 경우로 분류하였다.\n",
    "  입력받은 lista와 listb 리스트 각각을 set으로 중복을 제거한 뒤, '-' 기호를 사용해 lst 변수에 넣은 뒤 반환하도록 함수를 구현하였다."
   ]
  },
  {
   "cell_type": "markdown",
   "id": "93804213",
   "metadata": {},
   "source": [
    "#### [문제 5]\n",
    "5. 두 개의 양의 정수를 인자로 받아서 해당 범위안에 있는 소수(prime number)의 리스트를 출력하는 함수 print_primenumber(a, b)를 작성하시오.\n",
    "   - 이미 구현된 모듈이나 라이브러리는 사용하지 않는다.\n",
    "   - 함수의 반환(return)은 없으며 함수 내의 끝에서 .format()을 사용하여 다음과 같이 출력한다.\n",
    "     - print_primenumber(2, 10)\n",
    "       - 2 이상 10 이하 정수 중 소수 리스트: [2, 3, 5, 7]"
   ]
  },
  {
   "cell_type": "code",
   "execution_count": 13,
   "id": "00f400df",
   "metadata": {},
   "outputs": [
    {
     "name": "stdout",
     "output_type": "stream",
     "text": [
      "[2, 3, 5, 7]\n"
     ]
    }
   ],
   "source": [
    "def print_primenumber(a, b):\n",
    "    list = []\n",
    "\n",
    "    for i in range(a,b+1):\n",
    "        cnt = 0; # 약수의 수\n",
    "        for j in range(a, i+1):\n",
    "            # 약수가 존재하는 경우\n",
    "            if(i % j == 0) : cnt += 1\n",
    "        # 약수가 자기자신인 경우 - list에 append\n",
    "        if cnt == 1: list.append(i)    \n",
    "    \n",
    "    print(list)\n",
    "    \n",
    "print_primenumber(2,10)"
   ]
  },
  {
   "cell_type": "markdown",
   "id": "3195f50a",
   "metadata": {},
   "source": [
    "- 소수를 저장하는 list 변수를 생성하였다.\n",
    "  약수의 수를 통해 입력 받은 두 개의 양의 정수 안에 해당하는 소수를 찾아 list 변수에 append 하였고, 범위 안에 해당하는 소수를 담은 리스트를 출력하도록 구현하였다."
   ]
  },
  {
   "cell_type": "markdown",
   "id": "c995f4cd",
   "metadata": {},
   "source": [
    "## [Incremental Project 문제]"
   ]
  },
  {
   "cell_type": "markdown",
   "id": "3e78e9ad",
   "metadata": {},
   "source": [
    "웹 URL로 지정된 웹페이지를 문자열로 가져와 1) 모든 HTML 태그를 제외한 순수 텍스트 문자열만을 걸러내고, 2) 그 순수 텍스트 문자열 안에 존재하는 단어가 총 몇개인지 출력하는 프로그램을 작성하시오.\n",
    "- HTML 태그는 다음 조건을 가지는 것이다.\n",
    "  - < 로 시작하여 >로 끝난다.\n",
    "  - 예를 들어, 아래와 같은 HTML 내용 내에 한 줄이 있다고 가정하자.\n",
    "       \n",
    "           <label for=\"keep_signed\">로그인 유지</label>\n",
    "     - 위 소스에서 HTML 태그를 제외한 순수 텍스트 문자열: 로그인 유지 \n",
    "\n",
    "\n",
    "  - 다른 예제\n",
    "\n",
    "        <a href=\"#panel-3\" class=\"ui-tabs-anchor\" role=\"presentation\" tabindex=\"-1\" id=\"ui-id-3\"><strong>교육역량강화사업 온라인 컨텐츠</strong><br>\n",
    "     - 순수 텍스트 문자열: 교육역량강화사업 온라인 컨텐츠 \n",
    "\n",
    "\n",
    "  - 한편, 아래와 같은 HTML 한 줄이 있다고 가정하자.\n",
    "\n",
    "        <link rel=\"stylesheet\" href=\"/common/css/xe.min.css?20150910092654\" />\n",
    "     - 위 한 줄은 HTML 태그로만 구성된 것이며 걸러낼 수 있는 순수 텍스 문자열은 존재하지 않는다. \n",
    "\n",
    "\n",
    "  - 다른 예제\n",
    "        //<![CDATA[\n",
    "        xe.current_lang = \"ko\";\n",
    "        xe.cmd_find = \"찾기\";\n",
    "        xe.cmd_cancel = \"취소\";\n",
    "        xe.cmd_confirm = \"확인\";\n",
    "        xe.msg_no_root = \"루트는 선택 할 수 없습니다.\";\n",
    "        xe.msg_no_shortcut = \"바로가기는 선택 할 수 없습니다.\";\n",
    "        xe.msg_select_menu = \"대상 메뉴 선택\";\n",
    "        //]]>\n",
    "     - 순수 텍스트 문자열: 없음 \n",
    "\n",
    "  - 단어를 나누는 기준은 오로지 공백문자 (whitespace)이다.\n",
    "    - 즉, 위 순수 텍스트 문자열인 \"로그인 유지\"에서 분리한 단어는 \"로그인\"과 \"유지\"이다.\n",
    "  - 중복을 고려하지 않고 무조건 모든 단어의 개수를 세어서 출력한다.\n",
    "  - 본 숙제를 위하여 HTML 파싱과 관련된 모듈 (예. BeautifulSoup) 사용 금지\n",
    "  - 다음은 URL로 지정된 웹페이지를 특정 문자열로 가져오는 코드이다.\n",
    "    - 즉, 숙제 코드는 아래 코드로 부터 시작해야 한다.\n",
    "    - 아래 코드 수행시 requests 모듈이 존재하지 않는 에러가 발생하면 command 창에서 다음 코드 입력하여 requests 모듈 설치후 아래 코드 수행\n",
    "              > pip install requests  "
   ]
  },
  {
   "cell_type": "code",
   "execution_count": 14,
   "id": "0cc43a53",
   "metadata": {},
   "outputs": [
    {
     "name": "stdout",
     "output_type": "stream",
     "text": [
      "Requirement already satisfied: requests in /Users/pkej01/opt/anaconda3/lib/python3.8/site-packages (2.25.1)\r\n",
      "Requirement already satisfied: chardet<5,>=3.0.2 in /Users/pkej01/opt/anaconda3/lib/python3.8/site-packages (from requests) (4.0.0)\r\n",
      "Requirement already satisfied: certifi>=2017.4.17 in /Users/pkej01/opt/anaconda3/lib/python3.8/site-packages (from requests) (2020.12.5)\r\n",
      "Requirement already satisfied: urllib3<1.27,>=1.21.1 in /Users/pkej01/opt/anaconda3/lib/python3.8/site-packages (from requests) (1.26.4)\r\n",
      "Requirement already satisfied: idna<3,>=2.5 in /Users/pkej01/opt/anaconda3/lib/python3.8/site-packages (from requests) (2.10)\r\n"
     ]
    }
   ],
   "source": [
    "!pip install requests"
   ]
  },
  {
   "cell_type": "code",
   "execution_count": 15,
   "id": "8f9fe51a",
   "metadata": {},
   "outputs": [],
   "source": [
    "import requests\n",
    "req = requests.get('http://cse.koreatech.ac.kr')\n",
    "source = req.text"
   ]
  },
  {
   "cell_type": "code",
   "execution_count": 16,
   "id": "2c1d934b",
   "metadata": {},
   "outputs": [
    {
     "name": "stdout",
     "output_type": "stream",
     "text": [
      ".<html lang=\"en-US\">\n",
      "        <head>\n",
      "                <meta charset=\"UTF-8\"></meta>\n",
      "                <meta http-equiv=\"refresh\" content=\"0;url=https://cse.koreatech.ac.kr\"></meta>\n",
      "                <script type='text/javascript'> \n",
      "                        var i=1 \n",
      "                        function move(){ \n",
      "<!--                                value=\"\"+i+\"\" \t-->\n",
      "<!--                                i=i+1 \t-->\n",
      "<!--                                if(i<=5){ //5는 시간 (단위: 초) \t-->\n",
      "<!--                                        setTimeout(\"move()\",1000) \t-->\n",
      "<!--                                }else{ \t-->\n",
      "                                        location.href='https://cse.koreatech.ac.kr'; \n",
      "<!--                                } \t-->\n",
      "                        } \n",
      "                </script> \n",
      "                <script language=\"JavaScript\" Event=\"onLoad\" For=\"window\"> \n",
      "                        <!-- \n",
      "                                move(); \n",
      "                        //--> \n",
      "                </script>\n",
      "                <title>Page Redirection</title>\n",
      "        </head>\n",
      "        <body>\n",
      "                <!-- Note: don't tell people to `click` the link, just tell them that it is a link. -->\n",
      "                <H2>사이트 폐쇄 안내.</H2>\n",
      "                <H3>특성화 사업 종료로 인한 itcsw.koreatech.ac.kr 사이트가 폐쇄되었습니다.</H3>\n",
      "                <H3>잠시후 컴퓨터공학부 홈페이지로 자동 연결 됩니다.</H3>\n",
      "                If you are not redirected automatically, follow the <a href='https://cse.koreatech.ac.kr'>link to cse.koreatech.ac.kr</a>\n",
      "        </body>\n",
      "</html>\n",
      "\n"
     ]
    }
   ],
   "source": [
    "print(source)"
   ]
  },
  {
   "cell_type": "code",
   "execution_count": 17,
   "id": "dc09388f",
   "metadata": {},
   "outputs": [
    {
     "name": "stdout",
     "output_type": "stream",
     "text": [
      "39\n"
     ]
    }
   ],
   "source": [
    "import re\n",
    "\n",
    "def remove(sentences):\n",
    "    res = re.compile(r'<.*?>')\n",
    "    return res.sub('\\n', sentences)\n",
    "\n",
    "result = remove(source)\n",
    "\n",
    "words = 0\n",
    "text = result.split()\n",
    "for i in range(0, len(text)):\n",
    "    words += len(text[i].split(' '))\n",
    "print(words)"
   ]
  },
  {
   "cell_type": "code",
   "execution_count": 18,
   "id": "6e1be203",
   "metadata": {},
   "outputs": [],
   "source": [
    "req = requests.get('https://www.google.co.kr/')\n",
    "source = req.text\n",
    "# print(source)"
   ]
  },
  {
   "cell_type": "code",
   "execution_count": 19,
   "id": "0f547a07",
   "metadata": {},
   "outputs": [
    {
     "name": "stdout",
     "output_type": "stream",
     "text": [
      "217\n"
     ]
    }
   ],
   "source": [
    "import re # 정규표현식 모듈\n",
    "\n",
    "def remove(sentences):\n",
    "    res = re.compile(r'<.*?>') # compile 메서드 : 패턴 객체 반환\n",
    "    return res.sub('\\n', sentences)\n",
    "\n",
    "result = remove(source)\n",
    "\n",
    "words = 0\n",
    "text = result.split()\n",
    "for i in range(0, len(text)):\n",
    "    words += len(text[i].split(' '))\n",
    "print(words)"
   ]
  },
  {
   "cell_type": "markdown",
   "id": "ac800dde",
   "metadata": {},
   "source": [
    "1. re 모듈을 import하여 정규표현식을 사용하여 위의 사이트의 문자열에서 '<>', tag의 패턴을 찾아 개행문자로 바꾸었다.\n",
    "2. 저장된 문자열에서 split하여 리스트로 저장했다.\n",
    "3. for문을 활용해 단어의 수를 ' '를 기준으로 split하여 words에 저장하도록 했다.\n",
    "4. 단어의 수를 출력한다."
   ]
  },
  {
   "cell_type": "code",
   "execution_count": 20,
   "id": "8b3130c3",
   "metadata": {},
   "outputs": [
    {
     "name": "stdout",
     "output_type": "stream",
     "text": [
      "355\n"
     ]
    }
   ],
   "source": [
    "i = 0\n",
    "txt = ''\n",
    "\n",
    "# '<'가 source[i]라 가정하고, i를 1씩 증가시기면서 '>'가 될 때 까지 진행 \n",
    "while i <= len(source)-1 :\n",
    "    if source[i] == '<':\n",
    "        i += 1\n",
    "        while source[i] == '>':\n",
    "            i += 1\n",
    "        i += 1\n",
    "    # tag가 아닌 경우   \n",
    "    else:\n",
    "        txt += source[i]\n",
    "        i += 1\n",
    "words = txt.split()\n",
    "print(len(words))"
   ]
  },
  {
   "cell_type": "markdown",
   "id": "78ec1235",
   "metadata": {},
   "source": [
    "1. 순수 텍스트 문자열만 추출하기 위해 '<', '>' tag로 둘러싸인 부분을 무시하고 문자열만을 확인할 수 있도록 했다. \n",
    "2. source[i]가 tag 안의 문자열이 아닌 경우에는 txt 변수에 저장하도록 했다.\n",
    "3. 순수 텍스트 안에 몇 개의 단어가 존재하는지를 출력하기 위해 split()을 사용해 공백 문자를 기준으로 단어를 words의 요소로 넣었다.\n",
    "4. 총 단어의 수는 words의 요소 수와 같으므로 word의 길이를 출력하도록 구현했다.\n",
    "\n",
    "- 다른 방법 : urllib 패키지를 사용해 인터넷 리소스를 가져오기\n",
    "                from urllib import request \n",
    "                url = 'http://cse.koreatech.ac.kr'\n",
    "                f = request.urlopen(url)\n",
    "                source_bytes = f.read()\n",
    "                source = source_bytes.decode('utf-8')"
   ]
  },
  {
   "cell_type": "markdown",
   "id": "6408d680",
   "metadata": {},
   "source": [
    "> <span style=\"color:gray\">느낀점</span>\n",
    "> - 문제 4의 차집합에서 lista에서 listb를 뺀 리스트 요소의 값과 listb에서 lista 뺀 리스트의 요소의 값의 출력 결과가 다르다는 것을 차집합에 대한 개념을 다시 한 번 상기시킬 수 있었다.\n",
    "> - Incremental Project 문제를 통해 re모듈과 정규표현식에 대해 공부할 수 있는 기회였고, 이를 적용하여 원하는 결과를 수월하게 얻을 수 있었다. 2가지의 방법을 이용하여 문제를 풀어본 결과 단어의 수가 다르게 출력되는 것을 알 수 있었다. 또한 과제 소스에 제시된 print(source)의 출력된 결과와 과제를 진행하는 과정에서 print(source)의 출력 결과와 달라 당황했었다. 새로운 노트북을 생성해 코드를 복사해 진행했지만, 출력 결과는 똑같았다. 다른 방법으로 urllib 패키지를 사용해 인터넷 리소스를 가져오는 방법으로 해봤지만 역시나 출력 결과는 그대로였다. 어떤 문제가 있어서 출력 결과가 다른 것인지 알고 싶었으나 끝내 알지 못했다."
   ]
  }
 ],
 "metadata": {
  "kernelspec": {
   "display_name": "Python 3",
   "language": "python",
   "name": "python3"
  },
  "language_info": {
   "codemirror_mode": {
    "name": "ipython",
    "version": 3
   },
   "file_extension": ".py",
   "mimetype": "text/x-python",
   "name": "python",
   "nbconvert_exporter": "python",
   "pygments_lexer": "ipython3",
   "version": "3.8.8"
  }
 },
 "nbformat": 4,
 "nbformat_minor": 5
}
